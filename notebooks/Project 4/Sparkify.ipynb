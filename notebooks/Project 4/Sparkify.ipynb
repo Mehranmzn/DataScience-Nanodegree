{
 "cells": [
  {
   "cell_type": "markdown",
   "metadata": {},
   "source": [
    "# Sparkify Project Workspace\n",
    "This workspace contains a tiny subset (128MB) of the full dataset available (12GB). Feel free to use this workspace to build your project, or to explore a smaller subset with Spark before deploying your cluster on the cloud. Instructions for setting up your Spark cluster is included in the last lesson of the Extracurricular Spark Course content.\n",
    "\n",
    "You can follow the steps below to guide your data analysis and model building portion of this project."
   ]
  },
  {
   "cell_type": "code",
   "execution_count": 36,
   "metadata": {},
   "outputs": [],
   "source": [
    "# import libraries\n",
    "from pyspark.sql import SparkSession\n",
    "from pyspark import SparkConf, SparkContext\n",
    "from pyspark.sql.functions import udf\n",
    "import seaborn as sns\n",
    "import matplotlib.pyplot as plt\n",
    "import matplotlib.pyplot as plt\n",
    "from pyspark.sql.types import IntegerType\n",
    "from pyspark.sql.functions import isnan, count, when, col, desc, udf, col, sort_array, sum,  asc, avg\n",
    "from pyspark.sql.functions import sum as Fsum\n",
    "from pyspark.sql.functions import when, col\n",
    "from pyspark.sql.window import Window\n",
    "from pyspark.sql import Row\n",
    "import datetime\n",
    "\n",
    "import pyspark\n",
    "import pandas as pd\n",
    "import numpy as np\n",
    "\n"
   ]
  },
  {
   "cell_type": "code",
   "execution_count": 3,
   "metadata": {},
   "outputs": [
    {
     "name": "stderr",
     "output_type": "stream",
     "text": [
      "Setting default log level to \"WARN\".\n",
      "To adjust logging level use sc.setLogLevel(newLevel). For SparkR, use setLogLevel(newLevel).\n"
     ]
    },
    {
     "name": "stdout",
     "output_type": "stream",
     "text": [
      "23/03/18 21:10:48 WARN NativeCodeLoader: Unable to load native-hadoop library for your platform... using builtin-java classes where applicable\n"
     ]
    }
   ],
   "source": [
    "# create a Spark session\n",
    "spark = SparkSession\\\n",
    ".builder\\\n",
    ".appName('Sparkify')\\\n",
    ".getOrCreate()"
   ]
  },
  {
   "cell_type": "code",
   "execution_count": 4,
   "metadata": {},
   "outputs": [
    {
     "data": {
      "text/plain": [
       "[('spark.driver.extraJavaOptions',\n",
       "  '-XX:+IgnoreUnrecognizedVMOptions --add-opens=java.base/java.lang=ALL-UNNAMED --add-opens=java.base/java.lang.invoke=ALL-UNNAMED --add-opens=java.base/java.lang.reflect=ALL-UNNAMED --add-opens=java.base/java.io=ALL-UNNAMED --add-opens=java.base/java.net=ALL-UNNAMED --add-opens=java.base/java.nio=ALL-UNNAMED --add-opens=java.base/java.util=ALL-UNNAMED --add-opens=java.base/java.util.concurrent=ALL-UNNAMED --add-opens=java.base/java.util.concurrent.atomic=ALL-UNNAMED --add-opens=java.base/sun.nio.ch=ALL-UNNAMED --add-opens=java.base/sun.nio.cs=ALL-UNNAMED --add-opens=java.base/sun.security.action=ALL-UNNAMED --add-opens=java.base/sun.util.calendar=ALL-UNNAMED --add-opens=java.security.jgss/sun.security.krb5=ALL-UNNAMED'),\n",
       " ('spark.executor.id', 'driver'),\n",
       " ('spark.driver.port', '54155'),\n",
       " ('spark.app.id', 'local-1679170249372'),\n",
       " ('spark.app.submitTime', '1679170248766'),\n",
       " ('spark.app.startTime', '1679170248913'),\n",
       " ('spark.rdd.compress', 'True'),\n",
       " ('spark.executor.extraJavaOptions',\n",
       "  '-XX:+IgnoreUnrecognizedVMOptions --add-opens=java.base/java.lang=ALL-UNNAMED --add-opens=java.base/java.lang.invoke=ALL-UNNAMED --add-opens=java.base/java.lang.reflect=ALL-UNNAMED --add-opens=java.base/java.io=ALL-UNNAMED --add-opens=java.base/java.net=ALL-UNNAMED --add-opens=java.base/java.nio=ALL-UNNAMED --add-opens=java.base/java.util=ALL-UNNAMED --add-opens=java.base/java.util.concurrent=ALL-UNNAMED --add-opens=java.base/java.util.concurrent.atomic=ALL-UNNAMED --add-opens=java.base/sun.nio.ch=ALL-UNNAMED --add-opens=java.base/sun.nio.cs=ALL-UNNAMED --add-opens=java.base/sun.security.action=ALL-UNNAMED --add-opens=java.base/sun.util.calendar=ALL-UNNAMED --add-opens=java.security.jgss/sun.security.krb5=ALL-UNNAMED'),\n",
       " ('spark.app.name', 'Sparkify'),\n",
       " ('spark.serializer.objectStreamReset', '100'),\n",
       " ('spark.master', 'local[*]'),\n",
       " ('spark.submit.pyFiles', ''),\n",
       " ('spark.submit.deployMode', 'client'),\n",
       " ('spark.driver.host', 'uu103636.home'),\n",
       " ('spark.ui.showConsoleProgress', 'true')]"
      ]
     },
     "execution_count": 4,
     "metadata": {},
     "output_type": "execute_result"
    }
   ],
   "source": [
    "spark.sparkContext.getConf().getAll()"
   ]
  },
  {
   "cell_type": "markdown",
   "metadata": {},
   "source": [
    "# Load and Clean Dataset\n",
    "In this workspace, the mini-dataset file is `mini_sparkify_event_data.json`. Load and clean the dataset, checking for invalid or missing data - for example, records without userids or sessionids. "
   ]
  },
  {
   "cell_type": "code",
   "execution_count": 5,
   "metadata": {},
   "outputs": [
    {
     "name": "stderr",
     "output_type": "stream",
     "text": [
      "                                                                                \r"
     ]
    }
   ],
   "source": [
    "data = spark.read.json(\"/Users/Moaze002/Documents/mini_sparkify_event_data.json\")"
   ]
  },
  {
   "cell_type": "code",
   "execution_count": 6,
   "metadata": {},
   "outputs": [
    {
     "data": {
      "text/plain": [
       "Row(artist='Martha Tilston', auth='Logged In', firstName='Colin', gender='M', itemInSession=50, lastName='Freeman', length=277.89016, level='paid', location='Bakersfield, CA', method='PUT', page='NextSong', registration=1538173362000, sessionId=29, song='Rockpools', status=200, ts=1538352117000, userAgent='Mozilla/5.0 (Windows NT 6.1; WOW64; rv:31.0) Gecko/20100101 Firefox/31.0', userId='30')"
      ]
     },
     "execution_count": 6,
     "metadata": {},
     "output_type": "execute_result"
    }
   ],
   "source": [
    "data.head()"
   ]
  },
  {
   "cell_type": "code",
   "execution_count": 7,
   "metadata": {},
   "outputs": [
    {
     "name": "stdout",
     "output_type": "stream",
     "text": [
      "root\n",
      " |-- artist: string (nullable = true)\n",
      " |-- auth: string (nullable = true)\n",
      " |-- firstName: string (nullable = true)\n",
      " |-- gender: string (nullable = true)\n",
      " |-- itemInSession: long (nullable = true)\n",
      " |-- lastName: string (nullable = true)\n",
      " |-- length: double (nullable = true)\n",
      " |-- level: string (nullable = true)\n",
      " |-- location: string (nullable = true)\n",
      " |-- method: string (nullable = true)\n",
      " |-- page: string (nullable = true)\n",
      " |-- registration: long (nullable = true)\n",
      " |-- sessionId: long (nullable = true)\n",
      " |-- song: string (nullable = true)\n",
      " |-- status: long (nullable = true)\n",
      " |-- ts: long (nullable = true)\n",
      " |-- userAgent: string (nullable = true)\n",
      " |-- userId: string (nullable = true)\n",
      "\n"
     ]
    }
   ],
   "source": [
    "data.printSchema()"
   ]
  },
  {
   "cell_type": "code",
   "execution_count": 8,
   "metadata": {},
   "outputs": [
    {
     "name": "stderr",
     "output_type": "stream",
     "text": [
      "                                                                                \r"
     ]
    },
    {
     "data": {
      "text/plain": [
       "DataFrame[summary: string, artist: string, auth: string, firstName: string, gender: string, itemInSession: string, lastName: string, length: string, level: string, location: string, method: string, page: string, registration: string, sessionId: string, song: string, status: string, ts: string, userAgent: string, userId: string]"
      ]
     },
     "execution_count": 8,
     "metadata": {},
     "output_type": "execute_result"
    }
   ],
   "source": [
    "data.describe()\n"
   ]
  },
  {
   "cell_type": "code",
   "execution_count": 9,
   "metadata": {},
   "outputs": [
    {
     "data": {
      "text/plain": [
       "286500"
      ]
     },
     "execution_count": 9,
     "metadata": {},
     "output_type": "execute_result"
    }
   ],
   "source": [
    "data.count()"
   ]
  },
  {
   "cell_type": "code",
   "execution_count": 10,
   "metadata": {},
   "outputs": [
    {
     "name": "stdout",
     "output_type": "stream",
     "text": [
      "+------+\n",
      "|userId|\n",
      "+------+\n",
      "|      |\n",
      "|    10|\n",
      "|   100|\n",
      "|100001|\n",
      "|100002|\n",
      "|100003|\n",
      "|100004|\n",
      "|100005|\n",
      "|100006|\n",
      "|100007|\n",
      "+------+\n",
      "only showing top 10 rows\n",
      "\n"
     ]
    }
   ],
   "source": [
    "data.select(\"userId\").dropDuplicates().sort(\"userId\").show(10)"
   ]
  },
  {
   "cell_type": "code",
   "execution_count": 11,
   "metadata": {},
   "outputs": [
    {
     "name": "stdout",
     "output_type": "stream",
     "text": [
      "+---------+\n",
      "|sessionId|\n",
      "+---------+\n",
      "|        1|\n",
      "|        2|\n",
      "|        3|\n",
      "|        4|\n",
      "|        5|\n",
      "|        6|\n",
      "|        7|\n",
      "|        8|\n",
      "|        9|\n",
      "|       10|\n",
      "+---------+\n",
      "only showing top 10 rows\n",
      "\n"
     ]
    }
   ],
   "source": [
    "data.select(\"sessionId\").dropDuplicates().sort(\"sessionId\").show(10)"
   ]
  },
  {
   "cell_type": "code",
   "execution_count": 12,
   "metadata": {},
   "outputs": [],
   "source": [
    "data = data.dropna(how = 'any', subset = [\"userId\"])"
   ]
  },
  {
   "cell_type": "code",
   "execution_count": 13,
   "metadata": {},
   "outputs": [],
   "source": [
    "number_of_rows = data.count()"
   ]
  },
  {
   "cell_type": "code",
   "execution_count": 14,
   "metadata": {},
   "outputs": [],
   "source": [
    "data = data.filter(data[\"userId\"] != \"\")"
   ]
  },
  {
   "cell_type": "code",
   "execution_count": 15,
   "metadata": {},
   "outputs": [
    {
     "name": "stdout",
     "output_type": "stream",
     "text": [
      "+--------------------+-----+\n",
      "|              artist|count|\n",
      "+--------------------+-----+\n",
      "|      The Black Keys| 1125|\n",
      "|         Silverstein|   60|\n",
      "|           Kate Nash|   99|\n",
      "|        Yann Tiersen|  139|\n",
      "|    Jane's Addiction|   68|\n",
      "|          Tim Hughes|   39|\n",
      "|          Carl Craig|    3|\n",
      "|Dashboard Confess...|   98|\n",
      "|Yonder Mountain S...|   63|\n",
      "|           Los Lobos|   45|\n",
      "|Pete Rock & C.L. ...|    2|\n",
      "|        Ziggy Marley|   28|\n",
      "|      Jarabe De Palo|   83|\n",
      "|               Rufio|   13|\n",
      "|      Jorge Gonzalez|   24|\n",
      "|                Silk|   22|\n",
      "|  The Watts Prophets|    6|\n",
      "|            La Shica|    2|\n",
      "|        Generation X|   19|\n",
      "|    The Flower Kings|    4|\n",
      "+--------------------+-----+\n",
      "only showing top 20 rows\n",
      "\n",
      "+---------+------+\n",
      "|     auth| count|\n",
      "+---------+------+\n",
      "|Cancelled|    52|\n",
      "|Logged In|278102|\n",
      "+---------+------+\n",
      "\n",
      "+----------+-----+\n",
      "| firstName|count|\n",
      "+----------+-----+\n",
      "|    Maddox|  201|\n",
      "|    Karter| 3014|\n",
      "|   Lorelei| 1347|\n",
      "|  Isabella|  910|\n",
      "|  Giovanni|  837|\n",
      "|     Davis|  412|\n",
      "|    Nathan|  489|\n",
      "| Christian| 1003|\n",
      "|     Brisa| 2220|\n",
      "|Alexandria| 2176|\n",
      "|   Spencer| 2544|\n",
      "|    Jordan|   45|\n",
      "|     Jadyn| 1682|\n",
      "|     Anika| 1654|\n",
      "|     Diego|  108|\n",
      "|     Jaden|  234|\n",
      "|     Faigy| 2091|\n",
      "|    Wesley|   73|\n",
      "|     Caleb| 2067|\n",
      "|      Jada| 1342|\n",
      "+----------+-----+\n",
      "only showing top 20 rows\n",
      "\n",
      "+------+------+\n",
      "|gender| count|\n",
      "+------+------+\n",
      "|     F|154578|\n",
      "|     M|123576|\n",
      "+------+------+\n",
      "\n",
      "+-------------+-----+\n",
      "|itemInSession|count|\n",
      "+-------------+-----+\n",
      "|           26| 2126|\n",
      "|           29| 2040|\n",
      "|          474|   49|\n",
      "|          964|    2|\n",
      "|           65| 1296|\n",
      "|          191|  399|\n",
      "|          418|   75|\n",
      "|          541|   29|\n",
      "|          558|   23|\n",
      "|         1010|    2|\n",
      "|          222|  308|\n",
      "|          270|  224|\n",
      "|          293|  192|\n",
      "|          730|    4|\n",
      "|          938|    2|\n",
      "|          243|  268|\n",
      "|          278|  209|\n",
      "|          367|  110|\n",
      "|          442|   65|\n",
      "|          705|    4|\n",
      "+-------------+-----+\n",
      "only showing top 20 rows\n",
      "\n",
      "+--------+-----+\n",
      "|lastName|count|\n",
      "+--------+-----+\n",
      "|Harrison|  149|\n",
      "|Thornton|   73|\n",
      "|    Pena| 2067|\n",
      "|   Jones| 4831|\n",
      "|   Knapp| 1322|\n",
      "|  Henson| 1895|\n",
      "| Aguilar| 2567|\n",
      "| Schmidt|  202|\n",
      "|  Nguyen|   52|\n",
      "|  Farley|  324|\n",
      "|Phillips| 4002|\n",
      "|  Barnes| 1386|\n",
      "| Spencer|  518|\n",
      "|    Rose| 1682|\n",
      "|Campbell|14060|\n",
      "|Williams| 8410|\n",
      "|  Larson| 6105|\n",
      "| Francis| 2076|\n",
      "|   Smith| 1835|\n",
      "|   Lopez|   45|\n",
      "+--------+-----+\n",
      "only showing top 20 rows\n",
      "\n",
      "+---------+-----+\n",
      "|   length|count|\n",
      "+---------+-----+\n",
      "|200.75057|   22|\n",
      "|317.30893|   25|\n",
      "|260.28363|   27|\n",
      "|241.94567|   50|\n",
      "|216.47628|   62|\n",
      "|361.66485|    4|\n",
      "|375.03955|    8|\n",
      "|213.75955|   42|\n",
      "|347.81995|   35|\n",
      "|227.83955|   19|\n",
      "|216.97261|   14|\n",
      "|170.97098|    5|\n",
      "|137.84771|   11|\n",
      "| 26.38322|    9|\n",
      "|262.79138|  116|\n",
      "|231.94077|   21|\n",
      "|429.16526|    2|\n",
      "|356.20526|    7|\n",
      "|401.76281|    2|\n",
      "|387.16036|    2|\n",
      "+---------+-----+\n",
      "only showing top 20 rows\n",
      "\n",
      "+-----+------+\n",
      "|level| count|\n",
      "+-----+------+\n",
      "| free| 55721|\n",
      "| paid|222433|\n",
      "+-----+------+\n",
      "\n",
      "+--------------------+-----+\n",
      "|            location|count|\n",
      "+--------------------+-----+\n",
      "|     Gainesville, FL| 1229|\n",
      "|Atlantic City-Ham...| 2176|\n",
      "|Deltona-Daytona B...|   73|\n",
      "|Kingsport-Bristol...| 1863|\n",
      "|New Haven-Milford...| 4007|\n",
      "|         Dubuque, IA|  651|\n",
      "|Las Vegas-Henders...| 2042|\n",
      "|Indianapolis-Carm...|  970|\n",
      "|Seattle-Tacoma-Be...|  246|\n",
      "|   Winston-Salem, NC|  819|\n",
      "|     Bakersfield, CA| 1775|\n",
      "|Los Angeles-Long ...|30131|\n",
      "|Minneapolis-St. P...| 2134|\n",
      "|San Francisco-Oak...| 2647|\n",
      "|Phoenix-Mesa-Scot...| 4846|\n",
      "|Allentown-Bethleh...|  815|\n",
      "|Miami-Fort Lauder...| 3764|\n",
      "|           Selma, AL| 2027|\n",
      "|          Dayton, OH|  259|\n",
      "|Bridgeport-Stamfo...|  893|\n",
      "+--------------------+-----+\n",
      "only showing top 20 rows\n",
      "\n",
      "+------+------+\n",
      "|method| count|\n",
      "+------+------+\n",
      "|   PUT|257818|\n",
      "|   GET| 20336|\n",
      "+------+------+\n",
      "\n",
      "+--------------------+------+\n",
      "|                page| count|\n",
      "+--------------------+------+\n",
      "|              Cancel|    52|\n",
      "|    Submit Downgrade|    63|\n",
      "|         Thumbs Down|  2546|\n",
      "|                Home| 10082|\n",
      "|           Downgrade|  2055|\n",
      "|         Roll Advert|  3933|\n",
      "|              Logout|  3226|\n",
      "|       Save Settings|   310|\n",
      "|Cancellation Conf...|    52|\n",
      "|               About|   495|\n",
      "|            Settings|  1514|\n",
      "|     Add to Playlist|  6526|\n",
      "|          Add Friend|  4277|\n",
      "|            NextSong|228108|\n",
      "|           Thumbs Up| 12551|\n",
      "|                Help|  1454|\n",
      "|             Upgrade|   499|\n",
      "|               Error|   252|\n",
      "|      Submit Upgrade|   159|\n",
      "+--------------------+------+\n",
      "\n",
      "+-------------+-----+\n",
      "| registration|count|\n",
      "+-------------+-----+\n",
      "|1529027541000| 9632|\n",
      "|1533192032000| 1654|\n",
      "|1537779419000|  512|\n",
      "|1536642109000| 6880|\n",
      "|1537167593000|  108|\n",
      "|1533908361000| 1399|\n",
      "|1536817381000|  918|\n",
      "|1536663902000| 2465|\n",
      "|1537751138000|  955|\n",
      "|1537057938000|  651|\n",
      "|1536303841000|  315|\n",
      "|1534768517000|  861|\n",
      "|1537484200000|  815|\n",
      "|1538050164000| 2064|\n",
      "|1532450666000|  209|\n",
      "|1536032681000|  292|\n",
      "|1538331630000| 3191|\n",
      "|1536102943000|  457|\n",
      "|1536831228000| 1547|\n",
      "|1535623466000|  513|\n",
      "+-------------+-----+\n",
      "only showing top 20 rows\n",
      "\n",
      "+---------+-----+\n",
      "|sessionId|count|\n",
      "+---------+-----+\n",
      "|       29|   42|\n",
      "|       26|   80|\n",
      "|      474|   10|\n",
      "|      418|   90|\n",
      "|       65|  368|\n",
      "|      541|  276|\n",
      "|      558|  167|\n",
      "|      222|  236|\n",
      "|      293|  222|\n",
      "|      270|  135|\n",
      "|      278|  235|\n",
      "|      442|  503|\n",
      "|      367|  170|\n",
      "|      296|  170|\n",
      "|       54|  374|\n",
      "|      277|  103|\n",
      "|      287|  181|\n",
      "|      348|  313|\n",
      "|      415|  118|\n",
      "|      502|   39|\n",
      "+---------+-----+\n",
      "only showing top 20 rows\n",
      "\n",
      "+--------------------+-----+\n",
      "|                song|count|\n",
      "+--------------------+-----+\n",
      "|Never Gonna Be Al...|   50|\n",
      "|         TULENLIEKKI|   16|\n",
      "|The Geeks Were Right|    2|\n",
      "|              Heaven|   86|\n",
      "|      Call Me Manana|    6|\n",
      "|             Push It|   32|\n",
      "|Cool Monsoon (Wea...|    3|\n",
      "|The Fun Lovin' Cr...|    3|\n",
      "|Turn Your Lights ...|    8|\n",
      "|          Growing Up|    6|\n",
      "|          Positivity|    2|\n",
      "|         Miracle Man|    2|\n",
      "|        I'm The Drug|    3|\n",
      "|I've Just Seen A ...|   10|\n",
      "|    Blue Suede Shoes|    3|\n",
      "|       The Beginning|    3|\n",
      "|     Memories of You|    2|\n",
      "|If I Knew Then (W...|    2|\n",
      "|You Ain't Seen No...|   13|\n",
      "|       One Sweet Day|   13|\n",
      "+--------------------+-----+\n",
      "only showing top 20 rows\n",
      "\n",
      "+------+------+\n",
      "|status| count|\n",
      "+------+------+\n",
      "|   307| 23184|\n",
      "|   404|   252|\n",
      "|   200|254718|\n",
      "+------+------+\n",
      "\n",
      "+-------------+-----+\n",
      "|           ts|count|\n",
      "+-------------+-----+\n",
      "|1538512769000|    3|\n",
      "|1538738177000|    2|\n",
      "|1538990917000|    2|\n",
      "|1539197310000|    2|\n",
      "|1538840678000|    2|\n",
      "|1539293311000|    2|\n",
      "|1538678533000|    2|\n",
      "|1538693041000|    2|\n",
      "|1538950842000|    2|\n",
      "|1539072297000|    2|\n",
      "|1538999829000|    2|\n",
      "|1539030925000|    2|\n",
      "|1538398230000|    2|\n",
      "|1538505460000|    2|\n",
      "|1538776068000|    2|\n",
      "|1538993615000|    2|\n",
      "|1539247652000|    3|\n",
      "|1539253303000|    2|\n",
      "|1539266401000|    2|\n",
      "|1538389997000|    2|\n",
      "+-------------+-----+\n",
      "only showing top 20 rows\n",
      "\n",
      "+--------------------+-----+\n",
      "|           userAgent|count|\n",
      "+--------------------+-----+\n",
      "|\"Mozilla/5.0 (Win...| 5238|\n",
      "|Mozilla/5.0 (X11;...|   62|\n",
      "|\"Mozilla/5.0 (Mac...|18448|\n",
      "|Mozilla/5.0 (Wind...| 3214|\n",
      "|Mozilla/5.0 (Wind...| 5989|\n",
      "|Mozilla/5.0 (comp...| 8624|\n",
      "|\"Mozilla/5.0 (Win...| 7624|\n",
      "|Mozilla/5.0 (Maci...|10300|\n",
      "|\"Mozilla/5.0 (iPh...| 1976|\n",
      "|\"Mozilla/5.0 (Win...|15395|\n",
      "|Mozilla/5.0 (Wind...|16700|\n",
      "|Mozilla/5.0 (comp...|  815|\n",
      "|\"Mozilla/5.0 (Mac...|  235|\n",
      "|\"Mozilla/5.0 (Mac...|  512|\n",
      "|\"Mozilla/5.0 (Win...|14598|\n",
      "|\"Mozilla/5.0 (Win...| 2868|\n",
      "|\"Mozilla/5.0 (iPa...| 8912|\n",
      "|Mozilla/5.0 (Wind...| 2442|\n",
      "|\"Mozilla/5.0 (Mac...|17348|\n",
      "|\"Mozilla/5.0 (Win...| 2132|\n",
      "+--------------------+-----+\n",
      "only showing top 20 rows\n",
      "\n",
      "+------+-----+\n",
      "|userId|count|\n",
      "+------+-----+\n",
      "|    51| 2464|\n",
      "|   124| 4825|\n",
      "|     7|  201|\n",
      "|    54| 3437|\n",
      "|    15| 2278|\n",
      "|   132| 2304|\n",
      "|   101| 2149|\n",
      "|    11|  848|\n",
      "|   138| 2469|\n",
      "|    29| 3603|\n",
      "|    69| 1342|\n",
      "|    42| 4257|\n",
      "|   112|  292|\n",
      "|    87| 1003|\n",
      "|    73|  457|\n",
      "|     3|  254|\n",
      "|    30| 1775|\n",
      "|   113| 1895|\n",
      "|    34|   73|\n",
      "|    59|  872|\n",
      "+------+-----+\n",
      "only showing top 20 rows\n",
      "\n"
     ]
    }
   ],
   "source": [
    "# loop over each column and count duplicates\n",
    "for column in data.columns:\n",
    "    duplicates = data.groupBy(column).agg(count(\"*\").alias(\"count\")).filter(\"count > 1\")\n",
    "    duplicates.show()\n"
   ]
  },
  {
   "cell_type": "code",
   "execution_count": 16,
   "metadata": {},
   "outputs": [],
   "source": [
    "data_no_duplicated = data.select(\"*\").dropDuplicates()\n"
   ]
  },
  {
   "cell_type": "markdown",
   "metadata": {},
   "source": [
    "# Exploratory Data Analysis\n",
    "When you're working with the full dataset, perform EDA by loading a small subset of the data and doing basic manipulations within Spark. In this workspace, you are already provided a small subset of data you can explore.\n",
    "\n",
    "### Define Churn\n",
    "\n",
    "Once you've done some preliminary analysis, create a column `Churn` to use as the label for your model. I suggest using the `Cancellation Confirmation` events to define your churn, which happen for both paid and free users. As a bonus task, you can also look into the `Downgrade` events.\n",
    "\n",
    "### Explore Data\n",
    "Once you've defined churn, perform some exploratory data analysis to observe the behavior for users who stayed vs users who churned. You can start by exploring aggregates on these two groups of users, observing how much of a specific action they experienced per a certain time unit or number of songs played."
   ]
  },
  {
   "cell_type": "code",
   "execution_count": 17,
   "metadata": {},
   "outputs": [],
   "source": [
    "# flag the records where Cancellation Confirmation page is reached - 1 if it is and 0 if not\n",
    "churn_event = udf(lambda x: 1 if x == \"Cancellation Confirmation\" else 0, IntegerType())\n",
    "\n",
    "#creating churn column\n",
    "data_churn = data_no_duplicated.withColumn(\"Churn\", churn_event(\"page\"))\n"
   ]
  },
  {
   "cell_type": "code",
   "execution_count": 18,
   "metadata": {},
   "outputs": [
    {
     "name": "stderr",
     "output_type": "stream",
     "text": [
      "                                                                                \r"
     ]
    }
   ],
   "source": [
    "data_pd = data_churn.toPandas()"
   ]
  },
  {
   "cell_type": "code",
   "execution_count": 19,
   "metadata": {},
   "outputs": [
    {
     "data": {
      "text/html": [
       "<style type=\"text/css\">\n",
       "#T_a7ab8_row0_col0 {\n",
       "  background-color: #023858;\n",
       "  color: #f1f1f1;\n",
       "}\n",
       "#T_a7ab8_row1_col0 {\n",
       "  background-color: #fff7fb;\n",
       "  color: #000000;\n",
       "}\n",
       "</style>\n",
       "<table id=\"T_a7ab8\">\n",
       "  <thead>\n",
       "    <tr>\n",
       "      <th class=\"blank level0\" >&nbsp;</th>\n",
       "      <th id=\"T_a7ab8_level0_col0\" class=\"col_heading level0 col0\" >Churn</th>\n",
       "    </tr>\n",
       "  </thead>\n",
       "  <tbody>\n",
       "    <tr>\n",
       "      <th id=\"T_a7ab8_level0_row0\" class=\"row_heading level0 row0\" >0</th>\n",
       "      <td id=\"T_a7ab8_row0_col0\" class=\"data row0 col0\" >278102</td>\n",
       "    </tr>\n",
       "    <tr>\n",
       "      <th id=\"T_a7ab8_level0_row1\" class=\"row_heading level0 row1\" >1</th>\n",
       "      <td id=\"T_a7ab8_row1_col0\" class=\"data row1 col0\" >52</td>\n",
       "    </tr>\n",
       "  </tbody>\n",
       "</table>\n"
      ],
      "text/plain": [
       "<pandas.io.formats.style.Styler at 0x7fcc0131b730>"
      ]
     },
     "execution_count": 19,
     "metadata": {},
     "output_type": "execute_result"
    }
   ],
   "source": [
    "data_pd['Churn'].value_counts().to_frame().style.background_gradient()\n"
   ]
  },
  {
   "cell_type": "code",
   "execution_count": 20,
   "metadata": {},
   "outputs": [
    {
     "data": {
      "text/html": [
       "<div>\n",
       "<style scoped>\n",
       "    .dataframe tbody tr th:only-of-type {\n",
       "        vertical-align: middle;\n",
       "    }\n",
       "\n",
       "    .dataframe tbody tr th {\n",
       "        vertical-align: top;\n",
       "    }\n",
       "\n",
       "    .dataframe thead th {\n",
       "        text-align: right;\n",
       "    }\n",
       "</style>\n",
       "<table border=\"1\" class=\"dataframe\">\n",
       "  <thead>\n",
       "    <tr style=\"text-align: right;\">\n",
       "      <th></th>\n",
       "      <th>artist</th>\n",
       "      <th>auth</th>\n",
       "      <th>firstName</th>\n",
       "      <th>gender</th>\n",
       "      <th>itemInSession</th>\n",
       "      <th>lastName</th>\n",
       "      <th>length</th>\n",
       "      <th>level</th>\n",
       "      <th>location</th>\n",
       "      <th>method</th>\n",
       "      <th>page</th>\n",
       "      <th>registration</th>\n",
       "      <th>sessionId</th>\n",
       "      <th>song</th>\n",
       "      <th>status</th>\n",
       "      <th>ts</th>\n",
       "      <th>userAgent</th>\n",
       "      <th>userId</th>\n",
       "      <th>Churn</th>\n",
       "    </tr>\n",
       "  </thead>\n",
       "  <tbody>\n",
       "    <tr>\n",
       "      <th>0</th>\n",
       "      <td>The Futureheads</td>\n",
       "      <td>Logged In</td>\n",
       "      <td>Ainsley</td>\n",
       "      <td>F</td>\n",
       "      <td>80</td>\n",
       "      <td>Farley</td>\n",
       "      <td>120.81587</td>\n",
       "      <td>free</td>\n",
       "      <td>McAllen-Edinburg-Mission, TX</td>\n",
       "      <td>PUT</td>\n",
       "      <td>NextSong</td>\n",
       "      <td>1538304455000</td>\n",
       "      <td>187</td>\n",
       "      <td>Robot</td>\n",
       "      <td>200</td>\n",
       "      <td>1538373133000</td>\n",
       "      <td>\"Mozilla/5.0 (Windows NT 6.1; WOW64) AppleWebK...</td>\n",
       "      <td>78</td>\n",
       "      <td>0</td>\n",
       "    </tr>\n",
       "    <tr>\n",
       "      <th>1</th>\n",
       "      <td>None</td>\n",
       "      <td>Logged In</td>\n",
       "      <td>Ainsley</td>\n",
       "      <td>F</td>\n",
       "      <td>81</td>\n",
       "      <td>Farley</td>\n",
       "      <td>NaN</td>\n",
       "      <td>free</td>\n",
       "      <td>McAllen-Edinburg-Mission, TX</td>\n",
       "      <td>PUT</td>\n",
       "      <td>Thumbs Down</td>\n",
       "      <td>1538304455000</td>\n",
       "      <td>187</td>\n",
       "      <td>None</td>\n",
       "      <td>307</td>\n",
       "      <td>1538373134000</td>\n",
       "      <td>\"Mozilla/5.0 (Windows NT 6.1; WOW64) AppleWebK...</td>\n",
       "      <td>78</td>\n",
       "      <td>0</td>\n",
       "    </tr>\n",
       "    <tr>\n",
       "      <th>2</th>\n",
       "      <td>O'Rosko Raricim</td>\n",
       "      <td>Logged In</td>\n",
       "      <td>Madison</td>\n",
       "      <td>F</td>\n",
       "      <td>74</td>\n",
       "      <td>Morales</td>\n",
       "      <td>90.56608</td>\n",
       "      <td>paid</td>\n",
       "      <td>Tampa-St. Petersburg-Clearwater, FL</td>\n",
       "      <td>PUT</td>\n",
       "      <td>NextSong</td>\n",
       "      <td>1536287099000</td>\n",
       "      <td>222</td>\n",
       "      <td>Terre Promise</td>\n",
       "      <td>200</td>\n",
       "      <td>1538384924000</td>\n",
       "      <td>\"Mozilla/5.0 (Macintosh; Intel Mac OS X 10_9_4...</td>\n",
       "      <td>25</td>\n",
       "      <td>0</td>\n",
       "    </tr>\n",
       "    <tr>\n",
       "      <th>3</th>\n",
       "      <td>Morgan Page</td>\n",
       "      <td>Logged In</td>\n",
       "      <td>Panav</td>\n",
       "      <td>M</td>\n",
       "      <td>23</td>\n",
       "      <td>Myers</td>\n",
       "      <td>235.54567</td>\n",
       "      <td>paid</td>\n",
       "      <td>Morgantown, WV</td>\n",
       "      <td>PUT</td>\n",
       "      <td>NextSong</td>\n",
       "      <td>1538239045000</td>\n",
       "      <td>237</td>\n",
       "      <td>Strange Condition</td>\n",
       "      <td>200</td>\n",
       "      <td>1538394878000</td>\n",
       "      <td>\"Mozilla/5.0 (Windows NT 6.1; WOW64) AppleWebK...</td>\n",
       "      <td>15</td>\n",
       "      <td>0</td>\n",
       "    </tr>\n",
       "    <tr>\n",
       "      <th>4</th>\n",
       "      <td>None</td>\n",
       "      <td>Logged In</td>\n",
       "      <td>Ethan</td>\n",
       "      <td>M</td>\n",
       "      <td>15</td>\n",
       "      <td>Raymond</td>\n",
       "      <td>NaN</td>\n",
       "      <td>free</td>\n",
       "      <td>Hartford-West Hartford-East Hartford, CT</td>\n",
       "      <td>GET</td>\n",
       "      <td>Home</td>\n",
       "      <td>1534245996000</td>\n",
       "      <td>26</td>\n",
       "      <td>None</td>\n",
       "      <td>200</td>\n",
       "      <td>1538402423000</td>\n",
       "      <td>\"Mozilla/5.0 (Windows NT 6.3; WOW64) AppleWebK...</td>\n",
       "      <td>27</td>\n",
       "      <td>0</td>\n",
       "    </tr>\n",
       "  </tbody>\n",
       "</table>\n",
       "</div>"
      ],
      "text/plain": [
       "            artist       auth firstName gender  itemInSession lastName  \\\n",
       "0  The Futureheads  Logged In   Ainsley      F             80   Farley   \n",
       "1             None  Logged In   Ainsley      F             81   Farley   \n",
       "2  O'Rosko Raricim  Logged In   Madison      F             74  Morales   \n",
       "3      Morgan Page  Logged In     Panav      M             23    Myers   \n",
       "4             None  Logged In     Ethan      M             15  Raymond   \n",
       "\n",
       "      length level                                  location method  \\\n",
       "0  120.81587  free              McAllen-Edinburg-Mission, TX    PUT   \n",
       "1        NaN  free              McAllen-Edinburg-Mission, TX    PUT   \n",
       "2   90.56608  paid       Tampa-St. Petersburg-Clearwater, FL    PUT   \n",
       "3  235.54567  paid                            Morgantown, WV    PUT   \n",
       "4        NaN  free  Hartford-West Hartford-East Hartford, CT    GET   \n",
       "\n",
       "          page   registration  sessionId               song  status  \\\n",
       "0     NextSong  1538304455000        187              Robot     200   \n",
       "1  Thumbs Down  1538304455000        187               None     307   \n",
       "2     NextSong  1536287099000        222      Terre Promise     200   \n",
       "3     NextSong  1538239045000        237  Strange Condition     200   \n",
       "4         Home  1534245996000         26               None     200   \n",
       "\n",
       "              ts                                          userAgent userId  \\\n",
       "0  1538373133000  \"Mozilla/5.0 (Windows NT 6.1; WOW64) AppleWebK...     78   \n",
       "1  1538373134000  \"Mozilla/5.0 (Windows NT 6.1; WOW64) AppleWebK...     78   \n",
       "2  1538384924000  \"Mozilla/5.0 (Macintosh; Intel Mac OS X 10_9_4...     25   \n",
       "3  1538394878000  \"Mozilla/5.0 (Windows NT 6.1; WOW64) AppleWebK...     15   \n",
       "4  1538402423000  \"Mozilla/5.0 (Windows NT 6.3; WOW64) AppleWebK...     27   \n",
       "\n",
       "   Churn  \n",
       "0      0  \n",
       "1      0  \n",
       "2      0  \n",
       "3      0  \n",
       "4      0  "
      ]
     },
     "execution_count": 20,
     "metadata": {},
     "output_type": "execute_result"
    }
   ],
   "source": [
    "data_pd.head()"
   ]
  },
  {
   "cell_type": "code",
   "execution_count": 21,
   "metadata": {},
   "outputs": [
    {
     "name": "stdout",
     "output_type": "stream",
     "text": [
      "Percentage of records that is omitted becuase of empty id is: 0.03000496128044177\n"
     ]
    }
   ],
   "source": [
    "print(f\"Percentage of records that is omitted becuase of empty id is: {(number_of_rows - data_pd.shape[0])/data_pd.shape[0] }\")"
   ]
  },
  {
   "cell_type": "code",
   "execution_count": 22,
   "metadata": {},
   "outputs": [
    {
     "data": {
      "text/plain": [
       "52"
      ]
     },
     "execution_count": 22,
     "metadata": {},
     "output_type": "execute_result"
    }
   ],
   "source": [
    "data_pd[data_pd['Churn']==1].userId.count()\n",
    "\n",
    "# Number of churn customers 😞"
   ]
  },
  {
   "cell_type": "code",
   "execution_count": 23,
   "metadata": {},
   "outputs": [
    {
     "data": {
      "text/plain": [
       "(278154, 19)"
      ]
     },
     "execution_count": 23,
     "metadata": {},
     "output_type": "execute_result"
    }
   ],
   "source": [
    "data_pd.shape"
   ]
  },
  {
   "cell_type": "code",
   "execution_count": 24,
   "metadata": {},
   "outputs": [
    {
     "data": {
      "text/plain": [
       "artist           50046\n",
       "auth                 0\n",
       "firstName            0\n",
       "gender               0\n",
       "itemInSession        0\n",
       "lastName             0\n",
       "length           50046\n",
       "level                0\n",
       "location             0\n",
       "method               0\n",
       "page                 0\n",
       "registration         0\n",
       "sessionId            0\n",
       "song             50046\n",
       "status               0\n",
       "ts                   0\n",
       "userAgent            0\n",
       "userId               0\n",
       "Churn                0\n",
       "dtype: int64"
      ]
     },
     "execution_count": 24,
     "metadata": {},
     "output_type": "execute_result"
    }
   ],
   "source": [
    "data_pd.isnull().sum()"
   ]
  },
  {
   "cell_type": "code",
   "execution_count": 25,
   "metadata": {},
   "outputs": [],
   "source": [
    "data_pd.dropna(inplace=True)"
   ]
  },
  {
   "cell_type": "code",
   "execution_count": 26,
   "metadata": {},
   "outputs": [
    {
     "data": {
      "text/plain": [
       "(228108, 19)"
      ]
     },
     "execution_count": 26,
     "metadata": {},
     "output_type": "execute_result"
    }
   ],
   "source": [
    "data_pd.shape"
   ]
  },
  {
   "cell_type": "code",
   "execution_count": 27,
   "metadata": {},
   "outputs": [
    {
     "data": {
      "image/png": "[encoded data removed]",
      "text/plain": [
       "<Figure size 432x288 with 1 Axes>"
      ]
     },
     "metadata": {
      "needs_background": "light"
     },
     "output_type": "display_data"
    }
   ],
   "source": [
    "# create a density plot\n",
    "plt.hist(data=data_pd, x='length', bins=50, density=True, alpha=0.7\n",
    "        )\n",
    "\n",
    "# add a vertical line at the median length\n",
    "median_length = data_pd['length'].median()\n",
    "plt.axvline(median_length, color='red', linestyle='--')\n",
    "\n",
    "# set the x and y labels\n",
    "plt.xlabel('Length')\n",
    "plt.ylabel('Density')\n",
    "\n",
    "# add a title\n",
    "plt.title('Distribution of sequence lengths')\n",
    "\n",
    "# show the plot\n",
    "plt.show()"
   ]
  },
  {
   "cell_type": "code",
   "execution_count": 28,
   "metadata": {},
   "outputs": [
    {
     "name": "stdout",
     "output_type": "stream",
     "text": [
      "+-----+--------------------+-----+\n",
      "|Churn|                page|count|\n",
      "+-----+--------------------+-----+\n",
      "|    0|       Save Settings|  132|\n",
      "|    0|    Submit Downgrade|   49|\n",
      "|    0|            NextSong|  225|\n",
      "|    0|          Add Friend|  206|\n",
      "|    0|               Error|  117|\n",
      "|    0|     Add to Playlist|  215|\n",
      "|    0|               About|  155|\n",
      "|    0|           Thumbs Up|  220|\n",
      "|    1|Cancellation Conf...|   52|\n",
      "|    0|         Thumbs Down|  203|\n",
      "|    0|                Help|  192|\n",
      "|    0|         Roll Advert|  207|\n",
      "|    0|            Settings|  195|\n",
      "|    0|              Logout|  213|\n",
      "|    0|                Home|  223|\n",
      "|    0|              Cancel|   52|\n",
      "|    0|             Upgrade|  168|\n",
      "|    0|           Downgrade|  154|\n",
      "|    0|      Submit Upgrade|  131|\n",
      "+-----+--------------------+-----+\n",
      "\n"
     ]
    },
    {
     "name": "stderr",
     "output_type": "stream",
     "text": [
      "                                                                                \r"
     ]
    }
   ],
   "source": [
    "df_col = data_churn.select(['userId', 'Churn', 'page']).dropDuplicates().groupBy(['Churn', 'page']).count()\n",
    "df_col.show(40)"
   ]
  },
  {
   "cell_type": "code",
   "execution_count": 29,
   "metadata": {},
   "outputs": [],
   "source": [
    "# define the window specification\n",
    "window = Window.partitionBy(\"userId\") \\\n",
    "               .orderBy(desc(\"ts\")) \\\n",
    "               .rangeBetween(Window.unboundedPreceding, 0)\n",
    "\n",
    "# add a new column to the dataframe, called \"Churn\"\n",
    "# this column contains the cumulative sum of the \"Churn\" column for each user, sorted in reverse time order\n",
    "data_churn = data_churn.withColumn(\"Churn\", sum(\"Churn\").over(window))"
   ]
  },
  {
   "cell_type": "code",
   "execution_count": 30,
   "metadata": {},
   "outputs": [
    {
     "name": "stderr",
     "output_type": "stream",
     "text": [
      "                                                                                \r"
     ]
    },
    {
     "data": {
      "image/png": "[encoded data removed]",
      "text/plain": [
       "<Figure size 1296x432 with 3 Axes>"
      ]
     },
     "metadata": {
      "needs_background": "light"
     },
     "output_type": "display_data"
    }
   ],
   "source": [
    "# get all columns except for userId and churn\n",
    "columns = ['gender', 'level','page']\n",
    "\n",
    "\n",
    "# create subplots\n",
    "fig, axs = plt.subplots(ncols=len(columns), figsize=(18, 6))\n",
    "\n",
    "# iterate over columns and create a bar plot for each one\n",
    "for i, col in enumerate(columns):\n",
    "    # group by column and churn and count\n",
    "    df_col = data_churn.select(['userId', 'Churn', col]).dropDuplicates().groupBy(['Churn', col]).count()\n",
    "    # collect data as a list of rows\n",
    "    rows = df_col.collect()\n",
    "    # convert rows to a list of dictionaries\n",
    "    data = [{col: r[col], 'count': r['count'], 'Churn': r['Churn']} for r in rows]\n",
    "    # set order for plotting\n",
    "    data = sorted(data, key=lambda x: x['count'], reverse=True)\n",
    "    # plot bar chart\n",
    "    ax = sns.barplot(x=col, y='count', hue='Churn', data=pd.DataFrame(data), ax=axs[i],\n",
    "                    palette=['green', 'red'])\n",
    "    # set title\n",
    "    ax.set_title(f'Number of Users That Churned by {col}')\n",
    "    # set legend\n",
    "    ax.legend(title='Churn', loc='best', labels=['Not Churned', 'Churned'])\n",
    "    # set xlabel rotation\n",
    "    ax.tick_params(axis='x', rotation=90)\n",
    "\n",
    "# set overall title\n",
    "fig.suptitle('Churn by User Attributes')\n",
    "# adjust spacing between subplots\n",
    "fig.tight_layout()\n"
   ]
  },
  {
   "cell_type": "code",
   "execution_count": 31,
   "metadata": {},
   "outputs": [
    {
     "name": "stderr",
     "output_type": "stream",
     "text": [
      "                                                                                \r"
     ]
    }
   ],
   "source": [
    "group_by_page = data_churn.select(['userId', 'Churn', 'page'])\\\n",
    ".groupBy('page','Churn')\\\n",
    ".count()\\\n",
    ".toPandas() "
   ]
  },
  {
   "cell_type": "code",
   "execution_count": 32,
   "metadata": {},
   "outputs": [
    {
     "data": {
      "text/html": [
       "<div>\n",
       "<style scoped>\n",
       "    .dataframe tbody tr th:only-of-type {\n",
       "        vertical-align: middle;\n",
       "    }\n",
       "\n",
       "    .dataframe tbody tr th {\n",
       "        vertical-align: top;\n",
       "    }\n",
       "\n",
       "    .dataframe thead th {\n",
       "        text-align: right;\n",
       "    }\n",
       "</style>\n",
       "<table border=\"1\" class=\"dataframe\">\n",
       "  <thead>\n",
       "    <tr style=\"text-align: right;\">\n",
       "      <th></th>\n",
       "      <th>page</th>\n",
       "      <th>Churn</th>\n",
       "      <th>count</th>\n",
       "      <th>rate</th>\n",
       "    </tr>\n",
       "  </thead>\n",
       "  <tbody>\n",
       "    <tr>\n",
       "      <th>0</th>\n",
       "      <td>Settings</td>\n",
       "      <td>0</td>\n",
       "      <td>1244</td>\n",
       "      <td>0.005332</td>\n",
       "    </tr>\n",
       "    <tr>\n",
       "      <th>1</th>\n",
       "      <td>Thumbs Down</td>\n",
       "      <td>1</td>\n",
       "      <td>496</td>\n",
       "      <td>0.011056</td>\n",
       "    </tr>\n",
       "    <tr>\n",
       "      <th>2</th>\n",
       "      <td>Thumbs Up</td>\n",
       "      <td>1</td>\n",
       "      <td>1859</td>\n",
       "      <td>0.041436</td>\n",
       "    </tr>\n",
       "    <tr>\n",
       "      <th>3</th>\n",
       "      <td>Add to Playlist</td>\n",
       "      <td>1</td>\n",
       "      <td>1038</td>\n",
       "      <td>0.023137</td>\n",
       "    </tr>\n",
       "    <tr>\n",
       "      <th>4</th>\n",
       "      <td>Error</td>\n",
       "      <td>1</td>\n",
       "      <td>32</td>\n",
       "      <td>0.000713</td>\n",
       "    </tr>\n",
       "    <tr>\n",
       "      <th>5</th>\n",
       "      <td>About</td>\n",
       "      <td>1</td>\n",
       "      <td>56</td>\n",
       "      <td>0.001248</td>\n",
       "    </tr>\n",
       "    <tr>\n",
       "      <th>6</th>\n",
       "      <td>Thumbs Down</td>\n",
       "      <td>0</td>\n",
       "      <td>2050</td>\n",
       "      <td>0.008787</td>\n",
       "    </tr>\n",
       "    <tr>\n",
       "      <th>7</th>\n",
       "      <td>Roll Advert</td>\n",
       "      <td>1</td>\n",
       "      <td>967</td>\n",
       "      <td>0.021554</td>\n",
       "    </tr>\n",
       "    <tr>\n",
       "      <th>8</th>\n",
       "      <td>Home</td>\n",
       "      <td>0</td>\n",
       "      <td>8410</td>\n",
       "      <td>0.036050</td>\n",
       "    </tr>\n",
       "    <tr>\n",
       "      <th>9</th>\n",
       "      <td>Cancellation Confirmation</td>\n",
       "      <td>1</td>\n",
       "      <td>52</td>\n",
       "      <td>0.001159</td>\n",
       "    </tr>\n",
       "    <tr>\n",
       "      <th>10</th>\n",
       "      <td>Error</td>\n",
       "      <td>0</td>\n",
       "      <td>220</td>\n",
       "      <td>0.000943</td>\n",
       "    </tr>\n",
       "    <tr>\n",
       "      <th>11</th>\n",
       "      <td>Cancel</td>\n",
       "      <td>1</td>\n",
       "      <td>52</td>\n",
       "      <td>0.001159</td>\n",
       "    </tr>\n",
       "    <tr>\n",
       "      <th>12</th>\n",
       "      <td>Settings</td>\n",
       "      <td>1</td>\n",
       "      <td>270</td>\n",
       "      <td>0.006018</td>\n",
       "    </tr>\n",
       "    <tr>\n",
       "      <th>13</th>\n",
       "      <td>Add Friend</td>\n",
       "      <td>1</td>\n",
       "      <td>636</td>\n",
       "      <td>0.014176</td>\n",
       "    </tr>\n",
       "    <tr>\n",
       "      <th>14</th>\n",
       "      <td>Upgrade</td>\n",
       "      <td>0</td>\n",
       "      <td>387</td>\n",
       "      <td>0.001659</td>\n",
       "    </tr>\n",
       "    <tr>\n",
       "      <th>15</th>\n",
       "      <td>Downgrade</td>\n",
       "      <td>1</td>\n",
       "      <td>337</td>\n",
       "      <td>0.007512</td>\n",
       "    </tr>\n",
       "    <tr>\n",
       "      <th>16</th>\n",
       "      <td>Logout</td>\n",
       "      <td>1</td>\n",
       "      <td>553</td>\n",
       "      <td>0.012326</td>\n",
       "    </tr>\n",
       "    <tr>\n",
       "      <th>17</th>\n",
       "      <td>Submit Downgrade</td>\n",
       "      <td>1</td>\n",
       "      <td>9</td>\n",
       "      <td>0.000201</td>\n",
       "    </tr>\n",
       "    <tr>\n",
       "      <th>18</th>\n",
       "      <td>Save Settings</td>\n",
       "      <td>0</td>\n",
       "      <td>252</td>\n",
       "      <td>0.001080</td>\n",
       "    </tr>\n",
       "    <tr>\n",
       "      <th>19</th>\n",
       "      <td>Thumbs Up</td>\n",
       "      <td>0</td>\n",
       "      <td>10692</td>\n",
       "      <td>0.045831</td>\n",
       "    </tr>\n",
       "    <tr>\n",
       "      <th>20</th>\n",
       "      <td>Downgrade</td>\n",
       "      <td>0</td>\n",
       "      <td>1718</td>\n",
       "      <td>0.007364</td>\n",
       "    </tr>\n",
       "    <tr>\n",
       "      <th>21</th>\n",
       "      <td>Submit Upgrade</td>\n",
       "      <td>0</td>\n",
       "      <td>127</td>\n",
       "      <td>0.000544</td>\n",
       "    </tr>\n",
       "    <tr>\n",
       "      <th>22</th>\n",
       "      <td>Roll Advert</td>\n",
       "      <td>0</td>\n",
       "      <td>2966</td>\n",
       "      <td>0.012714</td>\n",
       "    </tr>\n",
       "    <tr>\n",
       "      <th>23</th>\n",
       "      <td>Submit Downgrade</td>\n",
       "      <td>0</td>\n",
       "      <td>54</td>\n",
       "      <td>0.000231</td>\n",
       "    </tr>\n",
       "    <tr>\n",
       "      <th>24</th>\n",
       "      <td>Logout</td>\n",
       "      <td>0</td>\n",
       "      <td>2673</td>\n",
       "      <td>0.011458</td>\n",
       "    </tr>\n",
       "    <tr>\n",
       "      <th>25</th>\n",
       "      <td>Home</td>\n",
       "      <td>1</td>\n",
       "      <td>1672</td>\n",
       "      <td>0.037268</td>\n",
       "    </tr>\n",
       "    <tr>\n",
       "      <th>26</th>\n",
       "      <td>Add Friend</td>\n",
       "      <td>0</td>\n",
       "      <td>3641</td>\n",
       "      <td>0.015607</td>\n",
       "    </tr>\n",
       "    <tr>\n",
       "      <th>27</th>\n",
       "      <td>Upgrade</td>\n",
       "      <td>1</td>\n",
       "      <td>112</td>\n",
       "      <td>0.002496</td>\n",
       "    </tr>\n",
       "    <tr>\n",
       "      <th>28</th>\n",
       "      <td>Submit Upgrade</td>\n",
       "      <td>1</td>\n",
       "      <td>32</td>\n",
       "      <td>0.000713</td>\n",
       "    </tr>\n",
       "    <tr>\n",
       "      <th>29</th>\n",
       "      <td>About</td>\n",
       "      <td>0</td>\n",
       "      <td>439</td>\n",
       "      <td>0.001882</td>\n",
       "    </tr>\n",
       "    <tr>\n",
       "      <th>30</th>\n",
       "      <td>Add to Playlist</td>\n",
       "      <td>0</td>\n",
       "      <td>5488</td>\n",
       "      <td>0.023524</td>\n",
       "    </tr>\n",
       "    <tr>\n",
       "      <th>31</th>\n",
       "      <td>Save Settings</td>\n",
       "      <td>1</td>\n",
       "      <td>58</td>\n",
       "      <td>0.001293</td>\n",
       "    </tr>\n",
       "    <tr>\n",
       "      <th>32</th>\n",
       "      <td>Help</td>\n",
       "      <td>1</td>\n",
       "      <td>239</td>\n",
       "      <td>0.005327</td>\n",
       "    </tr>\n",
       "    <tr>\n",
       "      <th>33</th>\n",
       "      <td>NextSong</td>\n",
       "      <td>1</td>\n",
       "      <td>36394</td>\n",
       "      <td>0.811207</td>\n",
       "    </tr>\n",
       "    <tr>\n",
       "      <th>34</th>\n",
       "      <td>NextSong</td>\n",
       "      <td>0</td>\n",
       "      <td>191714</td>\n",
       "      <td>0.821784</td>\n",
       "    </tr>\n",
       "    <tr>\n",
       "      <th>35</th>\n",
       "      <td>Help</td>\n",
       "      <td>0</td>\n",
       "      <td>1215</td>\n",
       "      <td>0.005208</td>\n",
       "    </tr>\n",
       "  </tbody>\n",
       "</table>\n",
       "</div>"
      ],
      "text/plain": [
       "                         page  Churn   count      rate\n",
       "0                    Settings      0    1244  0.005332\n",
       "1                 Thumbs Down      1     496  0.011056\n",
       "2                   Thumbs Up      1    1859  0.041436\n",
       "3             Add to Playlist      1    1038  0.023137\n",
       "4                       Error      1      32  0.000713\n",
       "5                       About      1      56  0.001248\n",
       "6                 Thumbs Down      0    2050  0.008787\n",
       "7                 Roll Advert      1     967  0.021554\n",
       "8                        Home      0    8410  0.036050\n",
       "9   Cancellation Confirmation      1      52  0.001159\n",
       "10                      Error      0     220  0.000943\n",
       "11                     Cancel      1      52  0.001159\n",
       "12                   Settings      1     270  0.006018\n",
       "13                 Add Friend      1     636  0.014176\n",
       "14                    Upgrade      0     387  0.001659\n",
       "15                  Downgrade      1     337  0.007512\n",
       "16                     Logout      1     553  0.012326\n",
       "17           Submit Downgrade      1       9  0.000201\n",
       "18              Save Settings      0     252  0.001080\n",
       "19                  Thumbs Up      0   10692  0.045831\n",
       "20                  Downgrade      0    1718  0.007364\n",
       "21             Submit Upgrade      0     127  0.000544\n",
       "22                Roll Advert      0    2966  0.012714\n",
       "23           Submit Downgrade      0      54  0.000231\n",
       "24                     Logout      0    2673  0.011458\n",
       "25                       Home      1    1672  0.037268\n",
       "26                 Add Friend      0    3641  0.015607\n",
       "27                    Upgrade      1     112  0.002496\n",
       "28             Submit Upgrade      1      32  0.000713\n",
       "29                      About      0     439  0.001882\n",
       "30            Add to Playlist      0    5488  0.023524\n",
       "31              Save Settings      1      58  0.001293\n",
       "32                       Help      1     239  0.005327\n",
       "33                   NextSong      1   36394  0.811207\n",
       "34                   NextSong      0  191714  0.821784\n",
       "35                       Help      0    1215  0.005208"
      ]
     },
     "execution_count": 32,
     "metadata": {},
     "output_type": "execute_result"
    }
   ],
   "source": [
    "# calculate counts of customers who churned and those who stayed\n",
    "churn_count = group_by_page.loc[group_by_page['Churn'] == 1, 'count'].sum()\n",
    "stay_count = group_by_page.loc[group_by_page['Churn'] == 0, 'count'].sum()\n",
    "\n",
    "# calculate the rate of pages visited by those who churned vs. those who stayed\n",
    "group_by_page['rate'] = group_by_page['count'] / np.where(\n",
    "    group_by_page['Churn'] == 0, stay_count, churn_count)\n",
    "group_by_page\n"
   ]
  },
  {
   "cell_type": "code",
   "execution_count": 33,
   "metadata": {},
   "outputs": [
    {
     "data": {
      "image/png": "[encoded data removed]",
      "text/plain": [
       "<Figure size 720x576 with 1 Axes>"
      ]
     },
     "metadata": {
      "needs_background": "light"
     },
     "output_type": "display_data"
    }
   ],
   "source": [
    "# plot the pages by churn\n",
    "plt.figure(figsize=[10,8])\n",
    "ax = sns.scatterplot(data=group_by_page, x='rate', y='page', hue='Churn', s=200)\n",
    "\n",
    "plt.title('Rate of Pages Navigated to by Users that Churned vs. Users that Stayed')\n",
    "plt.xlabel('Rate of pages visited')\n",
    "plt.ylabel('Page')\n",
    "plt.show()\n"
   ]
  },
  {
   "cell_type": "code",
   "execution_count": 37,
   "metadata": {},
   "outputs": [
    {
     "name": "stderr",
     "output_type": "stream",
     "text": [
      "                                                                                \r"
     ]
    }
   ],
   "source": [
    "# define a UDF to extract the hour from the timestamp\n",
    "get_hour = udf(lambda x: datetime.datetime.fromtimestamp(x / 1000.0).hour)\n",
    "\n",
    "# create a new column for the hour\n",
    "df = data_churn.withColumn(\"hour\", get_hour(data_churn.ts))\n",
    "\n",
    "# filter the data for users who did not churn and navigated to the NextSong page\n",
    "songs_in_hour_stay = df.filter((df.page == \"NextSong\") )\n",
    "\n",
    "# group by hour and count the number of NextSong pages\n",
    "songs_in_hour_stay = songs_in_hour_stay.groupBy([\"hour\", \"Churn\"]).count()\n",
    "\n",
    "# sort the data by hour as a float\n",
    "songs_in_hour_stay = songs_in_hour_stay.orderBy(col(\"hour\").cast(\"float\"))\n",
    "\n",
    "# convert the data to a pandas dataframe\n",
    "songs_in_hour_stay_pd = songs_in_hour_stay.toPandas()\n",
    "\n",
    "# convert the hour column to numeric data type\n",
    "songs_in_hour_stay_pd[\"hour\"] = pd.to_numeric(songs_in_hour_stay_pd[\"hour\"])\n"
   ]
  },
  {
   "cell_type": "code",
   "execution_count": 38,
   "metadata": {},
   "outputs": [
    {
     "data": {
      "text/html": [
       "<div>\n",
       "<style scoped>\n",
       "    .dataframe tbody tr th:only-of-type {\n",
       "        vertical-align: middle;\n",
       "    }\n",
       "\n",
       "    .dataframe tbody tr th {\n",
       "        vertical-align: top;\n",
       "    }\n",
       "\n",
       "    .dataframe thead th {\n",
       "        text-align: right;\n",
       "    }\n",
       "</style>\n",
       "<table border=\"1\" class=\"dataframe\">\n",
       "  <thead>\n",
       "    <tr style=\"text-align: right;\">\n",
       "      <th></th>\n",
       "      <th>hour</th>\n",
       "      <th>Churn</th>\n",
       "      <th>count</th>\n",
       "    </tr>\n",
       "  </thead>\n",
       "  <tbody>\n",
       "    <tr>\n",
       "      <th>0</th>\n",
       "      <td>0</td>\n",
       "      <td>1</td>\n",
       "      <td>1605</td>\n",
       "    </tr>\n",
       "    <tr>\n",
       "      <th>1</th>\n",
       "      <td>0</td>\n",
       "      <td>0</td>\n",
       "      <td>8303</td>\n",
       "    </tr>\n",
       "    <tr>\n",
       "      <th>2</th>\n",
       "      <td>1</td>\n",
       "      <td>0</td>\n",
       "      <td>7763</td>\n",
       "    </tr>\n",
       "    <tr>\n",
       "      <th>3</th>\n",
       "      <td>1</td>\n",
       "      <td>1</td>\n",
       "      <td>1564</td>\n",
       "    </tr>\n",
       "    <tr>\n",
       "      <th>4</th>\n",
       "      <td>2</td>\n",
       "      <td>1</td>\n",
       "      <td>1558</td>\n",
       "    </tr>\n",
       "    <tr>\n",
       "      <th>5</th>\n",
       "      <td>2</td>\n",
       "      <td>0</td>\n",
       "      <td>7337</td>\n",
       "    </tr>\n",
       "    <tr>\n",
       "      <th>6</th>\n",
       "      <td>3</td>\n",
       "      <td>1</td>\n",
       "      <td>1339</td>\n",
       "    </tr>\n",
       "    <tr>\n",
       "      <th>7</th>\n",
       "      <td>3</td>\n",
       "      <td>0</td>\n",
       "      <td>7000</td>\n",
       "    </tr>\n",
       "    <tr>\n",
       "      <th>8</th>\n",
       "      <td>4</td>\n",
       "      <td>0</td>\n",
       "      <td>7009</td>\n",
       "    </tr>\n",
       "    <tr>\n",
       "      <th>9</th>\n",
       "      <td>4</td>\n",
       "      <td>1</td>\n",
       "      <td>1350</td>\n",
       "    </tr>\n",
       "    <tr>\n",
       "      <th>10</th>\n",
       "      <td>5</td>\n",
       "      <td>1</td>\n",
       "      <td>1295</td>\n",
       "    </tr>\n",
       "    <tr>\n",
       "      <th>11</th>\n",
       "      <td>5</td>\n",
       "      <td>0</td>\n",
       "      <td>6934</td>\n",
       "    </tr>\n",
       "    <tr>\n",
       "      <th>12</th>\n",
       "      <td>6</td>\n",
       "      <td>0</td>\n",
       "      <td>6779</td>\n",
       "    </tr>\n",
       "    <tr>\n",
       "      <th>13</th>\n",
       "      <td>6</td>\n",
       "      <td>1</td>\n",
       "      <td>1200</td>\n",
       "    </tr>\n",
       "    <tr>\n",
       "      <th>14</th>\n",
       "      <td>7</td>\n",
       "      <td>0</td>\n",
       "      <td>6906</td>\n",
       "    </tr>\n",
       "    <tr>\n",
       "      <th>15</th>\n",
       "      <td>7</td>\n",
       "      <td>1</td>\n",
       "      <td>1208</td>\n",
       "    </tr>\n",
       "    <tr>\n",
       "      <th>16</th>\n",
       "      <td>8</td>\n",
       "      <td>0</td>\n",
       "      <td>6905</td>\n",
       "    </tr>\n",
       "    <tr>\n",
       "      <th>17</th>\n",
       "      <td>8</td>\n",
       "      <td>1</td>\n",
       "      <td>1214</td>\n",
       "    </tr>\n",
       "    <tr>\n",
       "      <th>18</th>\n",
       "      <td>9</td>\n",
       "      <td>0</td>\n",
       "      <td>7003</td>\n",
       "    </tr>\n",
       "    <tr>\n",
       "      <th>19</th>\n",
       "      <td>9</td>\n",
       "      <td>1</td>\n",
       "      <td>1222</td>\n",
       "    </tr>\n",
       "    <tr>\n",
       "      <th>20</th>\n",
       "      <td>10</td>\n",
       "      <td>0</td>\n",
       "      <td>7098</td>\n",
       "    </tr>\n",
       "    <tr>\n",
       "      <th>21</th>\n",
       "      <td>10</td>\n",
       "      <td>1</td>\n",
       "      <td>1261</td>\n",
       "    </tr>\n",
       "    <tr>\n",
       "      <th>22</th>\n",
       "      <td>11</td>\n",
       "      <td>0</td>\n",
       "      <td>7308</td>\n",
       "    </tr>\n",
       "    <tr>\n",
       "      <th>23</th>\n",
       "      <td>11</td>\n",
       "      <td>1</td>\n",
       "      <td>1294</td>\n",
       "    </tr>\n",
       "    <tr>\n",
       "      <th>24</th>\n",
       "      <td>12</td>\n",
       "      <td>0</td>\n",
       "      <td>7300</td>\n",
       "    </tr>\n",
       "    <tr>\n",
       "      <th>25</th>\n",
       "      <td>12</td>\n",
       "      <td>1</td>\n",
       "      <td>1353</td>\n",
       "    </tr>\n",
       "    <tr>\n",
       "      <th>26</th>\n",
       "      <td>13</td>\n",
       "      <td>1</td>\n",
       "      <td>1348</td>\n",
       "    </tr>\n",
       "    <tr>\n",
       "      <th>27</th>\n",
       "      <td>13</td>\n",
       "      <td>0</td>\n",
       "      <td>7877</td>\n",
       "    </tr>\n",
       "    <tr>\n",
       "      <th>28</th>\n",
       "      <td>14</td>\n",
       "      <td>1</td>\n",
       "      <td>1436</td>\n",
       "    </tr>\n",
       "    <tr>\n",
       "      <th>29</th>\n",
       "      <td>14</td>\n",
       "      <td>0</td>\n",
       "      <td>8043</td>\n",
       "    </tr>\n",
       "    <tr>\n",
       "      <th>30</th>\n",
       "      <td>15</td>\n",
       "      <td>1</td>\n",
       "      <td>1539</td>\n",
       "    </tr>\n",
       "    <tr>\n",
       "      <th>31</th>\n",
       "      <td>15</td>\n",
       "      <td>0</td>\n",
       "      <td>8508</td>\n",
       "    </tr>\n",
       "    <tr>\n",
       "      <th>32</th>\n",
       "      <td>16</td>\n",
       "      <td>1</td>\n",
       "      <td>1813</td>\n",
       "    </tr>\n",
       "    <tr>\n",
       "      <th>33</th>\n",
       "      <td>16</td>\n",
       "      <td>0</td>\n",
       "      <td>9223</td>\n",
       "    </tr>\n",
       "    <tr>\n",
       "      <th>34</th>\n",
       "      <td>17</td>\n",
       "      <td>0</td>\n",
       "      <td>9529</td>\n",
       "    </tr>\n",
       "    <tr>\n",
       "      <th>35</th>\n",
       "      <td>17</td>\n",
       "      <td>1</td>\n",
       "      <td>1852</td>\n",
       "    </tr>\n",
       "    <tr>\n",
       "      <th>36</th>\n",
       "      <td>18</td>\n",
       "      <td>0</td>\n",
       "      <td>9682</td>\n",
       "    </tr>\n",
       "    <tr>\n",
       "      <th>37</th>\n",
       "      <td>18</td>\n",
       "      <td>1</td>\n",
       "      <td>1886</td>\n",
       "    </tr>\n",
       "    <tr>\n",
       "      <th>38</th>\n",
       "      <td>19</td>\n",
       "      <td>1</td>\n",
       "      <td>2019</td>\n",
       "    </tr>\n",
       "    <tr>\n",
       "      <th>39</th>\n",
       "      <td>19</td>\n",
       "      <td>0</td>\n",
       "      <td>9327</td>\n",
       "    </tr>\n",
       "    <tr>\n",
       "      <th>40</th>\n",
       "      <td>20</td>\n",
       "      <td>0</td>\n",
       "      <td>8984</td>\n",
       "    </tr>\n",
       "    <tr>\n",
       "      <th>41</th>\n",
       "      <td>20</td>\n",
       "      <td>1</td>\n",
       "      <td>1956</td>\n",
       "    </tr>\n",
       "    <tr>\n",
       "      <th>42</th>\n",
       "      <td>21</td>\n",
       "      <td>1</td>\n",
       "      <td>1787</td>\n",
       "    </tr>\n",
       "    <tr>\n",
       "      <th>43</th>\n",
       "      <td>21</td>\n",
       "      <td>0</td>\n",
       "      <td>9106</td>\n",
       "    </tr>\n",
       "    <tr>\n",
       "      <th>44</th>\n",
       "      <td>22</td>\n",
       "      <td>1</td>\n",
       "      <td>1688</td>\n",
       "    </tr>\n",
       "    <tr>\n",
       "      <th>45</th>\n",
       "      <td>22</td>\n",
       "      <td>0</td>\n",
       "      <td>9135</td>\n",
       "    </tr>\n",
       "    <tr>\n",
       "      <th>46</th>\n",
       "      <td>23</td>\n",
       "      <td>0</td>\n",
       "      <td>8655</td>\n",
       "    </tr>\n",
       "    <tr>\n",
       "      <th>47</th>\n",
       "      <td>23</td>\n",
       "      <td>1</td>\n",
       "      <td>1607</td>\n",
       "    </tr>\n",
       "  </tbody>\n",
       "</table>\n",
       "</div>"
      ],
      "text/plain": [
       "    hour  Churn  count\n",
       "0      0      1   1605\n",
       "1      0      0   8303\n",
       "2      1      0   7763\n",
       "3      1      1   1564\n",
       "4      2      1   1558\n",
       "5      2      0   7337\n",
       "6      3      1   1339\n",
       "7      3      0   7000\n",
       "8      4      0   7009\n",
       "9      4      1   1350\n",
       "10     5      1   1295\n",
       "11     5      0   6934\n",
       "12     6      0   6779\n",
       "13     6      1   1200\n",
       "14     7      0   6906\n",
       "15     7      1   1208\n",
       "16     8      0   6905\n",
       "17     8      1   1214\n",
       "18     9      0   7003\n",
       "19     9      1   1222\n",
       "20    10      0   7098\n",
       "21    10      1   1261\n",
       "22    11      0   7308\n",
       "23    11      1   1294\n",
       "24    12      0   7300\n",
       "25    12      1   1353\n",
       "26    13      1   1348\n",
       "27    13      0   7877\n",
       "28    14      1   1436\n",
       "29    14      0   8043\n",
       "30    15      1   1539\n",
       "31    15      0   8508\n",
       "32    16      1   1813\n",
       "33    16      0   9223\n",
       "34    17      0   9529\n",
       "35    17      1   1852\n",
       "36    18      0   9682\n",
       "37    18      1   1886\n",
       "38    19      1   2019\n",
       "39    19      0   9327\n",
       "40    20      0   8984\n",
       "41    20      1   1956\n",
       "42    21      1   1787\n",
       "43    21      0   9106\n",
       "44    22      1   1688\n",
       "45    22      0   9135\n",
       "46    23      0   8655\n",
       "47    23      1   1607"
      ]
     },
     "execution_count": 38,
     "metadata": {},
     "output_type": "execute_result"
    }
   ],
   "source": [
    "songs_in_hour_stay_pd"
   ]
  },
  {
   "cell_type": "code",
   "execution_count": 39,
   "metadata": {},
   "outputs": [
    {
     "data": {
      "image/png": "[encoded data removed]",
      "text/plain": [
       "<Figure size 720x576 with 1 Axes>"
      ]
     },
     "metadata": {
      "needs_background": "light"
     },
     "output_type": "display_data"
    }
   ],
   "source": [
    "#plot the distribution\n",
    "plt.figure(figsize=[10, 8])\n",
    "sns.lineplot(data=songs_in_hour_stay_pd, x='hour', y='count', hue = \"Churn\")\n",
    "plt.xlim(-1, 24)\n",
    "plt.xlabel(\"Hour\")\n",
    "plt.ylabel(\"Songs played\")\n",
    "plt.title(\"Number of Songs Played per Hour ( Churn & Non-Churn Users)\");\n"
   ]
  },
  {
   "cell_type": "markdown",
   "metadata": {},
   "source": [
    "This is somewhat what we expect!"
   ]
  },
  {
   "cell_type": "code",
   "execution_count": 40,
   "metadata": {},
   "outputs": [
    {
     "name": "stderr",
     "output_type": "stream",
     "text": [
      "                                                                                \r"
     ]
    },
    {
     "data": {
      "image/png": "[encoded data removed]",
      "text/plain": [
       "<Figure size 720x576 with 1 Axes>"
      ]
     },
     "metadata": {
      "needs_background": "light"
     },
     "output_type": "display_data"
    }
   ],
   "source": [
    "\n",
    "df_opsys = data_churn.select(\"userId\", \"userAgent\", \"Churn\").dropDuplicates(['userId']).toPandas()\n",
    "\n",
    "# List of browsers to extract\n",
    "browser_list = [\"Chrome\", \"Firefox\", \"Safari\", \"Trident\"]\n",
    "\n",
    "# Extract the browser from the user agent string and create a new column\n",
    "df_opsys['browser'] = df_opsys.userAgent.str.extract('(?i)({0})'.format('|'.join(browser_list)))\n",
    "\n",
    "# Group the data by OS and browser and get the count\n",
    "grouped_data = df_opsys.groupby(['Churn', 'browser']).size().unstack()\n",
    "\n",
    "# Plot a bar chart for each group\n",
    "grouped_data.plot(kind='bar', layout=(2,2), figsize=(10,8))\n",
    "\n",
    "# Show the plot\n",
    "plt.show()\n",
    "\n"
   ]
  },
  {
   "cell_type": "code",
   "execution_count": 41,
   "metadata": {},
   "outputs": [
    {
     "name": "stderr",
     "output_type": "stream",
     "text": [
      "                                                                                \r"
     ]
    },
    {
     "data": {
      "image/png": "[encoded data removed]",
      "text/plain": [
       "<Figure size 576x432 with 1 Axes>"
      ]
     },
     "metadata": {
      "needs_background": "light"
     },
     "output_type": "display_data"
    }
   ],
   "source": [
    "# Subtract registration from ts and create a new column\n",
    "days_df = data_churn.withColumn(\"diif_days\", (data_churn['ts']) - (data_churn['registration']))\n",
    "\n",
    "# Convert delta_days to days and create a new column\n",
    "days_df_pd = days_df.withColumn(\"days\", days_df['diif_days']/(1000*3600*24)).toPandas()\n",
    "\n",
    "# # Create the violin plot\n",
    "plt.figure(figsize=[8,6])\n",
    "sns.violinplot(data=days_df_pd, x='Churn', y='days')\n",
    "plt.title('Count of Users that Churned vs. Users that Stayed by Days Since Registering')\n",
    "plt.ylabel(\"Days Since Registered\")\n",
    "\n",
    "# Show the plot\n",
    "plt.show()\n",
    "\n"
   ]
  },
  {
   "cell_type": "markdown",
   "metadata": {},
   "source": [
    "# Feature Engineering\n",
    "Once you've familiarized yourself with the data, build out the features you find promising to train your model on. To work with the full dataset, you can follow the following steps.\n",
    "- Write a script to extract the necessary features from the smaller subset of data\n",
    "- Ensure that your script is scalable, using the best practices discussed in Lesson 3\n",
    "- Try your script on the full data set, debugging your script if necessary\n",
    "\n",
    "If you are working in the classroom workspace, you can just extract features based on the small subset of data contained here. Be sure to transfer over this work to the larger dataset when you work on your Spark cluster."
   ]
  },
  {
   "cell_type": "markdown",
   "metadata": {},
   "source": [
    "#### Gender"
   ]
  },
  {
   "cell_type": "code",
   "execution_count": 42,
   "metadata": {},
   "outputs": [],
   "source": [
    "data_gender = data_churn\\\n",
    ".select(['userId', 'gender'])\\\n",
    ".dropDuplicates()\\\n",
    ".withColumn('gender', when(col('gender') == 'M', 1)\\\n",
    ".otherwise(0))"
   ]
  },
  {
   "cell_type": "code",
   "execution_count": 43,
   "metadata": {},
   "outputs": [
    {
     "name": "stdout",
     "output_type": "stream",
     "text": [
      "+------+------+\n",
      "|userId|gender|\n",
      "+------+------+\n",
      "|    44|     0|\n",
      "|    46|     0|\n",
      "|    41|     0|\n",
      "|    39|     0|\n",
      "|    40|     0|\n",
      "|    94|     0|\n",
      "|    35|     0|\n",
      "|    75|     0|\n",
      "|   100|     1|\n",
      "|    25|     0|\n",
      "+------+------+\n",
      "only showing top 10 rows\n",
      "\n"
     ]
    }
   ],
   "source": [
    "data_gender.show(10)"
   ]
  },
  {
   "cell_type": "code",
   "execution_count": 44,
   "metadata": {},
   "outputs": [],
   "source": [
    "from pyspark.sql.functions import dense_rank\n",
    "data_level = data_churn.select(['userId', 'level', 'ts']) \\\n",
    ".dropDuplicates() \\\n",
    ".sort('userId') \\\n",
    ".withColumn(\"uptodate\", dense_rank() \\\n",
    ".over(Window.partitionBy(\"userId\") \\\n",
    ".orderBy(desc(\"ts\")))) "
   ]
  },
  {
   "cell_type": "code",
   "execution_count": 45,
   "metadata": {},
   "outputs": [
    {
     "name": "stdout",
     "output_type": "stream",
     "text": [
      "+------+-----+-------------+--------+\n",
      "|userId|level|           ts|uptodate|\n",
      "+------+-----+-------------+--------+\n",
      "|    10| paid|1542631788000|       1|\n",
      "|    10| paid|1542631753000|       2|\n",
      "|    10| paid|1542631690000|       3|\n",
      "|    10| paid|1542631518000|       4|\n",
      "|    10| paid|1542631517000|       5|\n",
      "|    10| paid|1542631090000|       6|\n",
      "|    10| paid|1542630866000|       7|\n",
      "|    10| paid|1542630637000|       8|\n",
      "|    10| paid|1542630407000|       9|\n",
      "|    10| paid|1542630394000|      10|\n",
      "+------+-----+-------------+--------+\n",
      "only showing top 10 rows\n",
      "\n"
     ]
    }
   ],
   "source": [
    "data_level.show(10)"
   ]
  },
  {
   "cell_type": "code",
   "execution_count": 46,
   "metadata": {},
   "outputs": [],
   "source": [
    "data_level_f = data_level \\\n",
    ".filter(data_level.uptodate==1) \\\n",
    ".drop('ts', 'uptodate') \\\n",
    ".withColumn('level', when(col('level') == 'paid', 1).otherwise(0))\n",
    " "
   ]
  },
  {
   "cell_type": "code",
   "execution_count": 47,
   "metadata": {},
   "outputs": [
    {
     "name": "stdout",
     "output_type": "stream",
     "text": [
      "+------+-----+\n",
      "|userId|level|\n",
      "+------+-----+\n",
      "|    10|    1|\n",
      "|   100|    1|\n",
      "|100001|    0|\n",
      "|100002|    1|\n",
      "|100003|    0|\n",
      "|100004|    1|\n",
      "|100005|    0|\n",
      "|100006|    0|\n",
      "|100007|    1|\n",
      "|100008|    0|\n",
      "+------+-----+\n",
      "only showing top 10 rows\n",
      "\n"
     ]
    }
   ],
   "source": [
    "data_level_f.show(10)"
   ]
  },
  {
   "cell_type": "code",
   "execution_count": 48,
   "metadata": {},
   "outputs": [],
   "source": [
    "data_artist = data_churn\\\n",
    ".select(\"userId\", \"artist\")\\\n",
    ".dropDuplicates()\\\n",
    ".groupby(\"userId\")\\\n",
    ".count()\\\n",
    ".withColumnRenamed(\"count\", \"number_artist_listen\")\n",
    "\n"
   ]
  },
  {
   "cell_type": "code",
   "execution_count": 49,
   "metadata": {},
   "outputs": [
    {
     "name": "stdout",
     "output_type": "stream",
     "text": [
      "+------+--------------------+\n",
      "|userId|number_artist_listen|\n",
      "+------+--------------------+\n",
      "|100010|                 253|\n",
      "|200002|                 340|\n",
      "|   125|                   9|\n",
      "|    51|                1386|\n",
      "|   124|                2233|\n",
      "|     7|                 143|\n",
      "|    15|                1303|\n",
      "|    54|                1745|\n",
      "|   155|                 644|\n",
      "|   132|                1300|\n",
      "+------+--------------------+\n",
      "only showing top 10 rows\n",
      "\n"
     ]
    }
   ],
   "source": [
    "data_artist.show(10)"
   ]
  },
  {
   "cell_type": "code",
   "execution_count": 50,
   "metadata": {},
   "outputs": [],
   "source": [
    "data_song = data_churn\\\n",
    ".select([\"userId\", \"page\"]) \\\n",
    ".withColumn(\"n_song\", when(col(\"page\") == \"NextSong\", 1).otherwise(0)) \\\n",
    ".groupBy(\"userId\") \\\n",
    ".agg({'n_song': 'avg'}) \\\n",
    ".withColumnRenamed('avg(n_song)', 'nsong')"
   ]
  },
  {
   "cell_type": "code",
   "execution_count": 51,
   "metadata": {},
   "outputs": [
    {
     "name": "stdout",
     "output_type": "stream",
     "text": [
      "+------+------------------+\n",
      "|userId|             nsong|\n",
      "+------+------------------+\n",
      "|100010|0.7217847769028871|\n",
      "|200002|0.8164556962025317|\n",
      "|   125|0.7272727272727273|\n",
      "|    51| 0.856737012987013|\n",
      "|   124|0.8453886010362694|\n",
      "|     7| 0.746268656716418|\n",
      "|    15|0.8402107111501317|\n",
      "|    54| 0.826592958975851|\n",
      "|   155|0.8183632734530938|\n",
      "|   132|0.8368055555555556|\n",
      "|   154| 0.711864406779661|\n",
      "|100014|0.8290322580645161|\n",
      "|   101|0.8362028850628199|\n",
      "|    11|0.7629716981132075|\n",
      "|   138|0.8383961117861483|\n",
      "|300017|0.8202348690153568|\n",
      "|    29|0.8404107688037746|\n",
      "|    69|0.8383010432190761|\n",
      "|100021|0.7210031347962382|\n",
      "|    42|0.8393234672304439|\n",
      "+------+------------------+\n",
      "only showing top 20 rows\n",
      "\n"
     ]
    }
   ],
   "source": [
    "data_song.show()"
   ]
  },
  {
   "cell_type": "code",
   "execution_count": 52,
   "metadata": {},
   "outputs": [],
   "source": [
    "data_Playlist = data_churn\\\n",
    ".select([\"userId\", \"page\"]) \\\n",
    ".withColumn(\"p_list\", when(col(\"page\") == \"Add to Playlist\", 1).otherwise(0)) \\\n",
    ".groupBy(\"userId\") \\\n",
    ".agg({'p_list': 'count'}) \\\n",
    ".withColumnRenamed('count(p_list)', 'p_list')"
   ]
  },
  {
   "cell_type": "code",
   "execution_count": 53,
   "metadata": {},
   "outputs": [],
   "source": [
    "data_ad = data_churn\\\n",
    ".select([\"userId\", \"page\"]) \\\n",
    ".withColumn(\"ad\", when(col(\"page\") == \"Roll Advert\", 1).otherwise(0)) \\\n",
    ".groupBy(\"userId\") \\\n",
    ".agg({'ad': 'sum'}) \\\n",
    ".withColumnRenamed('sum(ad)', 'ad')"
   ]
  },
  {
   "cell_type": "code",
   "execution_count": 54,
   "metadata": {},
   "outputs": [
    {
     "name": "stdout",
     "output_type": "stream",
     "text": [
      "+------+------+\n",
      "|userId|p_list|\n",
      "+------+------+\n",
      "|100010|   381|\n",
      "|200002|   474|\n",
      "|   125|    11|\n",
      "|    51|  2464|\n",
      "|   124|  4825|\n",
      "|     7|   201|\n",
      "|    15|  2278|\n",
      "|    54|  3437|\n",
      "|   155|  1002|\n",
      "|   132|  2304|\n",
      "+------+------+\n",
      "only showing top 10 rows\n",
      "\n"
     ]
    }
   ],
   "source": [
    "data_Playlist.show(10)"
   ]
  },
  {
   "cell_type": "code",
   "execution_count": 55,
   "metadata": {},
   "outputs": [
    {
     "name": "stderr",
     "output_type": "stream",
     "text": [
      "[Stage 188:==============>                                          (2 + 6) / 8]\r"
     ]
    },
    {
     "name": "stdout",
     "output_type": "stream",
     "text": [
      "+------+---+\n",
      "|userId| ad|\n",
      "+------+---+\n",
      "|100010| 52|\n",
      "|200002|  7|\n",
      "|   125|  1|\n",
      "|    51|  0|\n",
      "|   124|  4|\n",
      "|     7| 16|\n",
      "|    15|  1|\n",
      "|    54| 47|\n",
      "|   155|  8|\n",
      "|   132|  2|\n",
      "+------+---+\n",
      "only showing top 10 rows\n",
      "\n"
     ]
    },
    {
     "name": "stderr",
     "output_type": "stream",
     "text": [
      "                                                                                \r"
     ]
    }
   ],
   "source": [
    "data_ad.show(10)"
   ]
  },
  {
   "cell_type": "code",
   "execution_count": 56,
   "metadata": {},
   "outputs": [],
   "source": [
    "data_likes  = data_churn\\\n",
    ".select([\"userId\", \"page\"]) \\\n",
    ".withColumn(\"n_like\", when(col(\"page\") == \"Thumbs Up\", 1).otherwise(0)) \\\n",
    ".groupBy(\"userId\") \\\n",
    ".agg({'n_like': 'sum'}) \\\n",
    ".withColumnRenamed('sum(n_like)', 'thumbsup')"
   ]
  },
  {
   "cell_type": "code",
   "execution_count": 57,
   "metadata": {},
   "outputs": [
    {
     "name": "stderr",
     "output_type": "stream",
     "text": [
      "[Stage 194:=================================================>       (7 + 1) / 8]\r"
     ]
    },
    {
     "name": "stdout",
     "output_type": "stream",
     "text": [
      "+------+--------+\n",
      "|userId|thumbsup|\n",
      "+------+--------+\n",
      "|100010|      17|\n",
      "|200002|      21|\n",
      "|   125|       0|\n",
      "|    51|     100|\n",
      "|   124|     171|\n",
      "|     7|       7|\n",
      "|    15|      81|\n",
      "|    54|     163|\n",
      "|   155|      58|\n",
      "|   132|      96|\n",
      "+------+--------+\n",
      "only showing top 10 rows\n",
      "\n"
     ]
    },
    {
     "name": "stderr",
     "output_type": "stream",
     "text": [
      "                                                                                \r"
     ]
    }
   ],
   "source": [
    "data_likes.show(10)"
   ]
  },
  {
   "cell_type": "code",
   "execution_count": 58,
   "metadata": {},
   "outputs": [],
   "source": [
    "data_dlikes =  data_churn\\\n",
    ".select([\"userId\", \"page\"]) \\\n",
    ".withColumn(\"n_dlike\", when(col(\"page\") == \"Thumbs Down\", 1).otherwise(0)) \\\n",
    ".groupBy(\"userId\") \\\n",
    ".agg({'n_dlike': 'sum'}) \\\n",
    ".withColumnRenamed('sum(n_dlike)', 'thumsdown')"
   ]
  },
  {
   "cell_type": "code",
   "execution_count": 59,
   "metadata": {},
   "outputs": [
    {
     "name": "stdout",
     "output_type": "stream",
     "text": [
      "+------+---------+\n",
      "|userId|thumsdown|\n",
      "+------+---------+\n",
      "|100010|        5|\n",
      "|200002|        6|\n",
      "|   125|        0|\n",
      "|    51|       21|\n",
      "|   124|       41|\n",
      "|     7|        1|\n",
      "|    15|       14|\n",
      "|    54|       29|\n",
      "|   155|        3|\n",
      "|   132|       17|\n",
      "+------+---------+\n",
      "only showing top 10 rows\n",
      "\n"
     ]
    }
   ],
   "source": [
    "data_dlikes.show(10)"
   ]
  },
  {
   "cell_type": "code",
   "execution_count": 60,
   "metadata": {},
   "outputs": [],
   "source": [
    "data_dgrade =  data_churn\\\n",
    ".select([\"userId\", \"page\"]) \\\n",
    ".withColumn(\"n_dgrade\", when(col(\"page\") == \"Downgrade\", 1).otherwise(0)) \\\n",
    ".groupBy(\"userId\") \\\n",
    ".agg(sum(\"n_dgrade\").alias(\"dgrade\"))\n"
   ]
  },
  {
   "cell_type": "code",
   "execution_count": 61,
   "metadata": {},
   "outputs": [
    {
     "name": "stderr",
     "output_type": "stream",
     "text": [
      "[Stage 206:===================================>                     (5 + 3) / 8]\r"
     ]
    },
    {
     "name": "stdout",
     "output_type": "stream",
     "text": [
      "+------+------+\n",
      "|userId|dgrade|\n",
      "+------+------+\n",
      "|100010|     0|\n",
      "|200002|     5|\n",
      "|   125|     0|\n",
      "|    51|    23|\n",
      "|   124|    41|\n",
      "|     7|     0|\n",
      "|    15|    28|\n",
      "|    54|    39|\n",
      "|   155|    12|\n",
      "|   132|    19|\n",
      "|   154|     0|\n",
      "|100014|     3|\n",
      "|   101|    22|\n",
      "|    11|     5|\n",
      "|   138|    21|\n",
      "|300017|    25|\n",
      "|    29|    18|\n",
      "|    69|     9|\n",
      "|100021|     0|\n",
      "|    42|    37|\n",
      "+------+------+\n",
      "only showing top 20 rows\n",
      "\n"
     ]
    },
    {
     "name": "stderr",
     "output_type": "stream",
     "text": [
      "                                                                                \r"
     ]
    }
   ],
   "source": [
    "data_dgrade.show()"
   ]
  },
  {
   "cell_type": "code",
   "execution_count": 62,
   "metadata": {},
   "outputs": [],
   "source": [
    "data_addfriend =  data_churn\\\n",
    ".select([\"userId\", \"page\"]) \\\n",
    ".withColumn(\"add_f\", when(col(\"page\") == \"Add Friend\", 1).otherwise(0)) \\\n",
    ".groupBy(\"userId\") \\\n",
    ".agg(count(\"add_f\").alias(\"add_f\"))"
   ]
  },
  {
   "cell_type": "code",
   "execution_count": 63,
   "metadata": {},
   "outputs": [
    {
     "name": "stdout",
     "output_type": "stream",
     "text": [
      "+------+-----+\n",
      "|userId|add_f|\n",
      "+------+-----+\n",
      "|100010|  381|\n",
      "|200002|  474|\n",
      "|   125|   11|\n",
      "|    51| 2464|\n",
      "|   124| 4825|\n",
      "|     7|  201|\n",
      "|    15| 2278|\n",
      "|    54| 3437|\n",
      "|   155| 1002|\n",
      "|   132| 2304|\n",
      "+------+-----+\n",
      "only showing top 10 rows\n",
      "\n"
     ]
    }
   ],
   "source": [
    "data_addfriend.show(10)"
   ]
  },
  {
   "cell_type": "code",
   "execution_count": 64,
   "metadata": {},
   "outputs": [],
   "source": [
    "data_logout =  data_churn\\\n",
    ".select([\"userId\", \"page\"]) \\\n",
    ".withColumn(\"logout\", when(col(\"page\") == \"Logout\", 1).otherwise(0)) \\\n",
    ".groupBy(\"userId\") \\\n",
    ".agg(sum(\"logout\").alias(\"logout\"))"
   ]
  },
  {
   "cell_type": "code",
   "execution_count": 65,
   "metadata": {},
   "outputs": [
    {
     "name": "stderr",
     "output_type": "stream",
     "text": [
      "[Stage 218:=================================================>       (7 + 1) / 8]\r"
     ]
    },
    {
     "name": "stdout",
     "output_type": "stream",
     "text": [
      "+------+------+\n",
      "|userId|logout|\n",
      "+------+------+\n",
      "|100010|     5|\n",
      "|200002|     5|\n",
      "|   125|     0|\n",
      "|    51|    24|\n",
      "|   124|    59|\n",
      "|     7|     3|\n",
      "|    15|    27|\n",
      "|    54|    36|\n",
      "|   155|    14|\n",
      "|   132|    34|\n",
      "+------+------+\n",
      "only showing top 10 rows\n",
      "\n"
     ]
    },
    {
     "name": "stderr",
     "output_type": "stream",
     "text": [
      "                                                                                \r"
     ]
    }
   ],
   "source": [
    "data_logout.show(10)"
   ]
  },
  {
   "cell_type": "code",
   "execution_count": 66,
   "metadata": {},
   "outputs": [],
   "source": [
    "# flag the records where Cancellation Confirmation page is reached - 1 if it is and 0 if not\n",
    "churn_event = udf(lambda x: 1 if x == \"Cancellation Confirmation\" else 0, IntegerType())\n",
    "\n",
    "#creating churn column\n",
    "data_churn = data_no_duplicated.withColumn(\"Churn\", churn_event(\"page\"))\n",
    "\n",
    "# sort records for a user in reverse time order so we can add up vals in churn column\n",
    "W = Window.partitionBy(\"userId\").orderBy(desc(\"ts\")).rangeBetween(Window.unboundedPreceding, 0)\n",
    "\n",
    "# create column churn which contains sum of churn 1s over records\n",
    "data_churn = data_churn.withColumn(\"Churn\", Fsum(\"Churn\").over(W))"
   ]
  },
  {
   "cell_type": "code",
   "execution_count": 67,
   "metadata": {},
   "outputs": [],
   "source": [
    "data_c = data_churn\\\n",
    ".select(\"userId\", \"Churn\")\\\n",
    ".dropDuplicates()\\\n",
    ".groupby(\"userId\", \"Churn\")\\\n",
    ".count()\\\n",
    ".drop('count')"
   ]
  },
  {
   "cell_type": "code",
   "execution_count": 68,
   "metadata": {},
   "outputs": [],
   "source": [
    "df_ready = data_gender\\\n",
    ".join(data_level_f, [\"userId\"])\\\n",
    ".join(data_artist, [\"userId\"])\\\n",
    ".join(data_Playlist, [\"userId\"])\\\n",
    ".join(data_likes, [\"userId\"])\\\n",
    ".join(data_dlikes, [\"userId\"])\\\n",
    ".join(data_dgrade, [\"userId\"])\\\n",
    ".join(data_song, [\"userId\"])\\\n",
    ".join(data_ad , [\"userId\"])\\\n",
    ".join(data_addfriend, [\"userId\"])\\\n",
    ".join(data_logout, [\"userId\"])\\\n",
    ".join(data_c, [\"userId\"]) \\\n",
    ".dropDuplicates()\n"
   ]
  },
  {
   "cell_type": "code",
   "execution_count": 69,
   "metadata": {},
   "outputs": [
    {
     "name": "stderr",
     "output_type": "stream",
     "text": [
      "                                                                                \r"
     ]
    },
    {
     "name": "stdout",
     "output_type": "stream",
     "text": [
      "+------+------+-----+--------------------+------+--------+---------+------+------------------+---+-----+------+-----+\n",
      "|userId|gender|level|number_artist_listen|p_list|thumbsup|thumsdown|dgrade|             nsong| ad|add_f|logout|Churn|\n",
      "+------+------+-----+--------------------+------+--------+---------+------+------------------+---+-----+------+-----+\n",
      "|100010|     0|    0|                 253|   381|      17|        5|     0|0.7217847769028871| 52|  381|     5|    0|\n",
      "|200002|     1|    1|                 340|   474|      21|        6|     5|0.8164556962025317|  7|  474|     5|    0|\n",
      "|   125|     1|    0|                   9|    11|       0|        0|     0|0.7272727272727273|  1|   11|     0|    1|\n",
      "|   124|     0|    1|                2233|  4825|     171|       41|    41|0.8453886010362694|  4| 4825|    59|    0|\n",
      "|    15|     1|    1|                1303|  2278|      81|       14|    28|0.8402107111501317|  1| 2278|    27|    0|\n",
      "|   155|     0|    1|                 644|  1002|      58|        3|    12|0.8183632734530938|  8| 1002|    14|    0|\n",
      "|100014|     1|    1|                 234|   310|      17|        3|     3|0.8290322580645161|  2|  310|     3|    1|\n",
      "|   132|     0|    1|                1300|  2304|      96|       17|    19|0.8368055555555556|  2| 2304|    34|    0|\n",
      "|   154|     0|    0|                  79|   118|      11|        0|     0| 0.711864406779661| 10|  118|     2|    0|\n",
      "|   101|     1|    1|                1242|  2149|      86|       16|    22|0.8362028850628199|  8| 2149|    24|    1|\n",
      "|    11|     0|    1|                 535|   848|      40|        9|     5|0.7629716981132075| 39|  848|    14|    0|\n",
      "|   138|     1|    1|                1333|  2469|      95|       24|    21|0.8383961117861483| 17| 2469|    18|    0|\n",
      "|100021|     1|    0|                 208|   319|      11|        5|     0|0.7210031347962382| 30|  319|     7|    1|\n",
      "|    29|     1|    1|                1805|  3603|     154|       22|    18|0.8404107688037746| 22| 3603|    41|    1|\n",
      "|   112|     1|    0|                 196|   292|       9|        3|     0|0.7363013698630136| 21|  292|     3|    0|\n",
      "|200010|     0|    0|                 215|   317|      14|        7|     0|0.7476340694006309| 17|  317|     9|    0|\n",
      "|     3|     1|    1|                 198|   254|      14|        3|     2|  0.84251968503937|  1|  254|     3|    1|\n",
      "|   113|     0|    1|                1112|  1895|      82|       12|    16|0.8364116094986808|  1| 1895|    18|    0|\n",
      "|    30|     1|    1|                1019|  1775|      62|       17|     6|0.7983098591549296| 72| 1775|    20|    0|\n",
      "|   133|     1|    0|                  33|    44|       2|        0|     0|0.7272727272727273|  1|   44|     2|    0|\n",
      "+------+------+-----+--------------------+------+--------+---------+------+------------------+---+-----+------+-----+\n",
      "only showing top 20 rows\n",
      "\n"
     ]
    }
   ],
   "source": [
    "df_ready.show()"
   ]
  },
  {
   "cell_type": "code",
   "execution_count": 70,
   "metadata": {},
   "outputs": [
    {
     "name": "stdout",
     "output_type": "stream",
     "text": [
      "root\n",
      " |-- userId: string (nullable = true)\n",
      " |-- gender: integer (nullable = false)\n",
      " |-- level: integer (nullable = false)\n",
      " |-- number_artist_listen: long (nullable = false)\n",
      " |-- p_list: long (nullable = false)\n",
      " |-- thumbsup: long (nullable = true)\n",
      " |-- thumsdown: long (nullable = true)\n",
      " |-- dgrade: long (nullable = true)\n",
      " |-- nsong: double (nullable = true)\n",
      " |-- ad: long (nullable = true)\n",
      " |-- add_f: long (nullable = false)\n",
      " |-- logout: long (nullable = true)\n",
      " |-- Churn: long (nullable = true)\n",
      "\n"
     ]
    }
   ],
   "source": [
    "df_ready.printSchema()\n"
   ]
  },
  {
   "cell_type": "code",
   "execution_count": 71,
   "metadata": {},
   "outputs": [],
   "source": [
    "float_cols = [col(c).cast('float').alias(c) for c in df_ready.columns]\n",
    "\n",
    "df_ready = df_ready.select(float_cols)"
   ]
  },
  {
   "cell_type": "code",
   "execution_count": 72,
   "metadata": {},
   "outputs": [
    {
     "name": "stdout",
     "output_type": "stream",
     "text": [
      "root\n",
      " |-- userId: float (nullable = true)\n",
      " |-- gender: float (nullable = false)\n",
      " |-- level: float (nullable = false)\n",
      " |-- number_artist_listen: float (nullable = false)\n",
      " |-- p_list: float (nullable = false)\n",
      " |-- thumbsup: float (nullable = true)\n",
      " |-- thumsdown: float (nullable = true)\n",
      " |-- dgrade: float (nullable = true)\n",
      " |-- nsong: float (nullable = true)\n",
      " |-- ad: float (nullable = true)\n",
      " |-- add_f: float (nullable = false)\n",
      " |-- logout: float (nullable = true)\n",
      " |-- Churn: float (nullable = true)\n",
      "\n"
     ]
    }
   ],
   "source": [
    "df_ready.printSchema()"
   ]
  },
  {
   "cell_type": "code",
   "execution_count": 73,
   "metadata": {},
   "outputs": [],
   "source": [
    "from pyspark.ml.feature import StandardScaler\n",
    "from pyspark.ml.feature import VectorAssembler\n",
    "\n",
    "# Select columns to be scaled and assemble them into a single vector column\n",
    "assembler = VectorAssembler(inputCols=['gender', 'level', 'number_artist_listen', 'p_list',\n",
    "                                      'thumbsup', 'thumsdown', 'dgrade', 'nsong', 'ad','Churn'],\n",
    "                            outputCol='features_vec')\n"
   ]
  },
  {
   "cell_type": "code",
   "execution_count": 74,
   "metadata": {},
   "outputs": [
    {
     "name": "stderr",
     "output_type": "stream",
     "text": [
      "                                                                                \r"
     ]
    }
   ],
   "source": [
    "df_assembled = assembler.transform(df_ready)\n",
    "\n",
    "# Fit StandardScaler model on assembled data\n",
    "scaler = StandardScaler(inputCol='features_vec', outputCol='scaled_features')\n",
    "scaler_model = scaler.fit(df_assembled)\n",
    "\n",
    "# Apply scaler model on assembled data\n",
    "df_scaled = scaler_model.transform(df_assembled)"
   ]
  },
  {
   "cell_type": "code",
   "execution_count": 75,
   "metadata": {},
   "outputs": [
    {
     "name": "stderr",
     "output_type": "stream",
     "text": [
      "                                                                                \r"
     ]
    },
    {
     "name": "stdout",
     "output_type": "stream",
     "text": [
      "+--------+------+-----+--------------------+------+--------+---------+------+----------+----+------+------+-----+--------------------+--------------------+\n",
      "|  userId|gender|level|number_artist_listen|p_list|thumbsup|thumsdown|dgrade|     nsong|  ad| add_f|logout|Churn|        features_vec|     scaled_features|\n",
      "+--------+------+-----+--------------------+------+--------+---------+------+----------+----+------+------+-----+--------------------+--------------------+\n",
      "|100010.0|   0.0|  0.0|               253.0| 381.0|    17.0|      5.0|   0.0| 0.7217848|52.0| 381.0|   5.0|  0.0|[0.0,0.0,253.0,38...|[0.0,0.0,0.418904...|\n",
      "|200002.0|   1.0|  1.0|               340.0| 474.0|    21.0|      6.0|   5.0| 0.8164557| 7.0| 474.0|   5.0|  0.0|[1.0,1.0,340.0,47...|[2.00127105192366...|\n",
      "|   125.0|   1.0|  0.0|                 9.0|  11.0|     0.0|      0.0|   0.0|0.72727275| 1.0|  11.0|   0.0|  1.0|[1.0,0.0,9.0,11.0...|[2.00127105192366...|\n",
      "|   124.0|   0.0|  1.0|              2233.0|4825.0|   171.0|     41.0|  41.0| 0.8453886| 4.0|4825.0|  59.0|  0.0|[0.0,1.0,2233.0,4...|[0.0,2.0844250013...|\n",
      "|    15.0|   1.0|  1.0|              1303.0|2278.0|    81.0|     14.0|  28.0|0.84021074| 1.0|2278.0|  27.0|  0.0|[1.0,1.0,1303.0,2...|[2.00127105192366...|\n",
      "+--------+------+-----+--------------------+------+--------+---------+------+----------+----+------+------+-----+--------------------+--------------------+\n",
      "only showing top 5 rows\n",
      "\n"
     ]
    }
   ],
   "source": [
    "df_scaled.show(5)"
   ]
  },
  {
   "cell_type": "markdown",
   "metadata": {},
   "source": [
    "# Modeling\n",
    "Split the full dataset into train, test, and validation sets. Test out several of the machine learning methods you learned. Evaluate the accuracy of the various models, tuning parameters as necessary. Determine your winning model based on test accuracy and report results on the validation set. Since the churned users are a fairly small subset, I suggest using F1 score as the metric to optimize."
   ]
  },
  {
   "cell_type": "code",
   "execution_count": 76,
   "metadata": {},
   "outputs": [
    {
     "name": "stderr",
     "output_type": "stream",
     "text": [
      "                                                                                \r"
     ]
    },
    {
     "data": {
      "text/html": [
       "<style type=\"text/css\">\n",
       "#T_2bf9c_row0_col0, #T_2bf9c_row1_col0 {\n",
       "  background-color: #fff7fb;\n",
       "  color: #000000;\n",
       "}\n",
       "</style>\n",
       "<table id=\"T_2bf9c\">\n",
       "  <thead>\n",
       "    <tr>\n",
       "      <th class=\"blank\" >&nbsp;</th>\n",
       "      <th class=\"blank level0\" >&nbsp;</th>\n",
       "      <th id=\"T_2bf9c_level0_col0\" class=\"col_heading level0 col0\" >0</th>\n",
       "    </tr>\n",
       "    <tr>\n",
       "      <th class=\"index_name level0\" >Churn</th>\n",
       "      <th class=\"index_name level1\" >count</th>\n",
       "      <th class=\"blank col0\" >&nbsp;</th>\n",
       "    </tr>\n",
       "  </thead>\n",
       "  <tbody>\n",
       "    <tr>\n",
       "      <th id=\"T_2bf9c_level0_row0\" class=\"row_heading level0 row0\" >0.000000</th>\n",
       "      <th id=\"T_2bf9c_level1_row0\" class=\"row_heading level1 row0\" >173</th>\n",
       "      <td id=\"T_2bf9c_row0_col0\" class=\"data row0 col0\" >1</td>\n",
       "    </tr>\n",
       "    <tr>\n",
       "      <th id=\"T_2bf9c_level0_row1\" class=\"row_heading level0 row1\" >1.000000</th>\n",
       "      <th id=\"T_2bf9c_level1_row1\" class=\"row_heading level1 row1\" >52</th>\n",
       "      <td id=\"T_2bf9c_row1_col0\" class=\"data row1 col0\" >1</td>\n",
       "    </tr>\n",
       "  </tbody>\n",
       "</table>\n"
      ],
      "text/plain": [
       "<pandas.io.formats.style.Styler at 0x7fcc12dbb9d0>"
      ]
     },
     "execution_count": 76,
     "metadata": {},
     "output_type": "execute_result"
    }
   ],
   "source": [
    "df_scaled \\\n",
    "    .groupby('Churn') \\\n",
    "    .count() \\\n",
    "    .toPandas() \\\n",
    "    .value_counts() \\\n",
    "    .to_frame() \\\n",
    "    .style \\\n",
    "    .background_gradient()\n"
   ]
  },
  {
   "cell_type": "code",
   "execution_count": 98,
   "metadata": {},
   "outputs": [
    {
     "name": "stderr",
     "output_type": "stream",
     "text": [
      "                                                                                \r"
     ]
    },
    {
     "name": "stdout",
     "output_type": "stream",
     "text": [
      "train size :173\n"
     ]
    },
    {
     "name": "stderr",
     "output_type": "stream",
     "text": [
      "                                                                                \r"
     ]
    },
    {
     "name": "stdout",
     "output_type": "stream",
     "text": [
      "test size:52\n"
     ]
    }
   ],
   "source": [
    "train, test = df_scaled.randomSplit([0.8, 0.2], seed = 1001)\n",
    "print(\"train size :\" + str(train.count()))\n",
    "print(\"test size:\" + str(test.count()))\n"
   ]
  },
  {
   "cell_type": "code",
   "execution_count": null,
   "metadata": {},
   "outputs": [
    {
     "name": "stdout",
     "output_type": "stream",
     "text": [
      "------------------------------ {'LogisticRegression'}  started ----------\n"
     ]
    },
    {
     "name": "stderr",
     "output_type": "stream",
     "text": [
      "                                                                                \r"
     ]
    }
   ],
   "source": [
    "# import necessary modules\n",
    "from pyspark.ml.classification import LogisticRegression, RandomForestClassifier, GBTClassifier, LinearSVC, NaiveBayes\n",
    "from pyspark.ml.evaluation import MulticlassClassificationEvaluator\n",
    "from pyspark.ml.tuning import ParamGridBuilder, TrainValidationSplit\n",
    "import time\n",
    "\n",
    "# instantiate all of our models and include a seed for reproducibility where possible\n",
    "lr = LogisticRegression(featuresCol='scaled_features', labelCol='Churn', maxIter=10)\n",
    "rf = RandomForestClassifier(featuresCol='scaled_features', labelCol='Churn', seed=1001)\n",
    "gbt = GBTClassifier(featuresCol='scaled_features', labelCol='Churn', maxIter=10, seed=1001)\n",
    "lsvc = LinearSVC(featuresCol='scaled_features', labelCol='Churn')\n",
    "nb = NaiveBayes(featuresCol='scaled_features', labelCol='Churn')\n",
    "\n",
    "# list of models\n",
    "model_list = [lr, rf, gbt, lsvc, nb]\n",
    "\n",
    "# evaluator we are using is MulticlassClassificationEvaluator to get the F1 scores\n",
    "evaluator = MulticlassClassificationEvaluator(labelCol='Churn', predictionCol='prediction')\n",
    "\n",
    "# for loop to go through all our models\n",
    "for model in model_list:\n",
    "    # get model name \n",
    "    model_name = model.__class__.__name__\n",
    "    \n",
    "    # print training started\n",
    "    print(f\"---\"*10, {model_name}, \" started\", 10*\"-\")\n",
    "    \n",
    "    # start time\n",
    "    start_time = time.time()\n",
    "    \n",
    "    # fit the models on train dataset\n",
    "    lr_model = model.fit(train)\n",
    "    \n",
    "    # end time\n",
    "    end_time = time.time()\n",
    "     \n",
    "    # print training ended\n",
    "    print(f\"---\"*10, {model_name}, \" ended\", 10*\"-\")\n",
    "    \n",
    "    # print time taken\n",
    "    print(f\"Time taken for {model_name}: {(end_time - start_time):.2f} seconds\")\n",
    "    print(\"\")\n",
    "    \n",
    "    # predict\n",
    "    print(f\"Predicting {model_name} model started\")\n",
    "    print(\"\")\n",
    "\n",
    "    predictions = lr_model.transform(test)\n",
    "    print(f\"Predicting {model_name} model ended\")\n",
    "    print(\"\")\n",
    "\n",
    "    \n",
    "    # get metrics to evaluate\n",
    "    # f1\n",
    "    f1_score = evaluator.evaluate(predictions, {evaluator.metricName: \"f1\"})\n",
    "    print(f\"F1 score for {model_name}: {f1_score:.2f}\")\n",
    "    print(\"\")\n",
    "\n",
    "    # accuracy\n",
    "    correct_predictions = predictions.filter(predictions.Churn == predictions.prediction).count()\n",
    "    total_predictions = predictions.count()\n",
    "    accuracy = correct_predictions / total_predictions\n",
    "    print(f\"Accuracy of {model_name} model: {accuracy:.2f}\")\n",
    "    print(\"\")\n",
    "    print(\"\")\n",
    "\n",
    "\n"
   ]
  },
  {
   "cell_type": "markdown",
   "metadata": {},
   "source": [
    "# Final Steps\n",
    "Clean up your code, adding comments and renaming variables to make the code easier to read and maintain. Refer to the Spark Project Overview page and Data Scientist Capstone Project Rubric to make sure you are including all components of the capstone project and meet all expectations. Remember, this includes thorough documentation in a README file in a Github repository, as well as a web app or blog post."
   ]
  },
  {
   "cell_type": "code",
   "execution_count": null,
   "metadata": {},
   "outputs": [],
   "source": []
  },
  {
   "cell_type": "code",
   "execution_count": null,
   "metadata": {},
   "outputs": [],
   "source": []
  },
  {
   "cell_type": "code",
   "execution_count": null,
   "metadata": {},
   "outputs": [],
   "source": []
  }
 ],
 "metadata": {
  "kernelspec": {
   "display_name": "Python 3 (ipykernel)",
   "language": "python",
   "name": "python3"
  },
  "language_info": {
   "codemirror_mode": {
    "name": "ipython",
    "version": 3
   },
   "file_extension": ".py",
   "mimetype": "text/x-python",
   "name": "python",
   "nbconvert_exporter": "python",
   "pygments_lexer": "ipython3",
   "version": "3.9.12"
  }
 },
 "nbformat": 4,
 "nbformat_minor": 4
}
