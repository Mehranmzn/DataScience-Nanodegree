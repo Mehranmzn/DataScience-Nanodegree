{
 "cells": [
  {
   "cell_type": "markdown",
   "metadata": {},
   "source": [
    "# Sparkify Project Workspace\n",
    "This workspace contains a tiny subset (128MB) of the full dataset available (12GB). Feel free to use this workspace to build your project, or to explore a smaller subset with Spark before deploying your cluster on the cloud. Instructions for setting up your Spark cluster is included in the last lesson of the Extracurricular Spark Course content.\n",
    "\n",
    "You can follow the steps below to guide your data analysis and model building portion of this project."
   ]
  },
  {
   "cell_type": "code",
   "execution_count": 3,
   "metadata": {},
   "outputs": [],
   "source": [
    "# import libraries\n",
    "from pyspark.sql import SparkSession\n",
    "from pyspark import SparkConf\n",
    "from pyspark.sql.functions import udf\n",
    "import seaborn as sns\n",
    "import matplotlib.pyplot as plt\n",
    "import matplotlib.pyplot as plt\n",
    "from pyspark.sql.types import IntegerType\n",
    "from pyspark.sql.functions import isnan, count, when, col, desc, udf, col, sort_array, sum,  asc, avg\n",
    "from pyspark.sql.functions import sum as Fsum\n",
    "from pyspark.sql.functions import when, col\n",
    "from pyspark.sql.window import Window\n",
    "from pyspark.sql import Row\n",
    "import datetime\n",
    "\n",
    "import pyspark\n",
    "import pandas as pd\n",
    "import numpy as np\n",
    "\n"
   ]
  },
  {
   "cell_type": "code",
   "execution_count": 4,
   "metadata": {},
   "outputs": [],
   "source": [
    "# create a Spark session\n",
    "spark = SparkSession\\\n",
    ".builder\\\n",
    ".appName('Sparkify')\\\n",
    ".getOrCreate()"
   ]
  },
  {
   "cell_type": "code",
   "execution_count": 5,
   "metadata": {},
   "outputs": [
    {
     "data": {
      "text/plain": [
       "[('spark.driver.extraJavaOptions',\n",
       "  '-XX:+IgnoreUnrecognizedVMOptions --add-opens=java.base/java.lang=ALL-UNNAMED --add-opens=java.base/java.lang.invoke=ALL-UNNAMED --add-opens=java.base/java.lang.reflect=ALL-UNNAMED --add-opens=java.base/java.io=ALL-UNNAMED --add-opens=java.base/java.net=ALL-UNNAMED --add-opens=java.base/java.nio=ALL-UNNAMED --add-opens=java.base/java.util=ALL-UNNAMED --add-opens=java.base/java.util.concurrent=ALL-UNNAMED --add-opens=java.base/java.util.concurrent.atomic=ALL-UNNAMED --add-opens=java.base/sun.nio.ch=ALL-UNNAMED --add-opens=java.base/sun.nio.cs=ALL-UNNAMED --add-opens=java.base/sun.security.action=ALL-UNNAMED --add-opens=java.base/sun.util.calendar=ALL-UNNAMED --add-opens=java.security.jgss/sun.security.krb5=ALL-UNNAMED'),\n",
       " ('spark.app.id', 'local-1679164664620'),\n",
       " ('spark.executor.id', 'driver'),\n",
       " ('spark.app.startTime', '1679164664101'),\n",
       " ('spark.sql.warehouse.dir',\n",
       "  'file:/Users/Moaze002/Documents/Udacity-DataScience%20Nanodegree/notebooks/Project%204/spark-warehouse'),\n",
       " ('spark.rdd.compress', 'True'),\n",
       " ('spark.executor.extraJavaOptions',\n",
       "  '-XX:+IgnoreUnrecognizedVMOptions --add-opens=java.base/java.lang=ALL-UNNAMED --add-opens=java.base/java.lang.invoke=ALL-UNNAMED --add-opens=java.base/java.lang.reflect=ALL-UNNAMED --add-opens=java.base/java.io=ALL-UNNAMED --add-opens=java.base/java.net=ALL-UNNAMED --add-opens=java.base/java.nio=ALL-UNNAMED --add-opens=java.base/java.util=ALL-UNNAMED --add-opens=java.base/java.util.concurrent=ALL-UNNAMED --add-opens=java.base/java.util.concurrent.atomic=ALL-UNNAMED --add-opens=java.base/sun.nio.ch=ALL-UNNAMED --add-opens=java.base/sun.nio.cs=ALL-UNNAMED --add-opens=java.base/sun.security.action=ALL-UNNAMED --add-opens=java.base/sun.util.calendar=ALL-UNNAMED --add-opens=java.security.jgss/sun.security.krb5=ALL-UNNAMED'),\n",
       " ('spark.app.name', 'Sparkify'),\n",
       " ('spark.serializer.objectStreamReset', '100'),\n",
       " ('spark.master', 'local[*]'),\n",
       " ('spark.driver.port', '52346'),\n",
       " ('spark.submit.pyFiles', ''),\n",
       " ('spark.submit.deployMode', 'client'),\n",
       " ('spark.driver.host', 'uu103636.home'),\n",
       " ('spark.app.submitTime', '1679164663917'),\n",
       " ('spark.ui.showConsoleProgress', 'true')]"
      ]
     },
     "execution_count": 5,
     "metadata": {},
     "output_type": "execute_result"
    }
   ],
   "source": [
    "spark.sparkContext.getConf().getAll()"
   ]
  },
  {
   "cell_type": "markdown",
   "metadata": {},
   "source": [
    "# Load and Clean Dataset\n",
    "In this workspace, the mini-dataset file is `mini_sparkify_event_data.json`. Load and clean the dataset, checking for invalid or missing data - for example, records without userids or sessionids. "
   ]
  },
  {
   "cell_type": "code",
   "execution_count": 6,
   "metadata": {},
   "outputs": [
    {
     "name": "stderr",
     "output_type": "stream",
     "text": [
      "                                                                                \r"
     ]
    }
   ],
   "source": [
    "data = spark.read.json(\"/Users/Moaze002/Documents/Udacity-DataScience Nanodegree/notebooks/Project 4/mini_sparkify_event_data.json\")"
   ]
  },
  {
   "cell_type": "code",
   "execution_count": 7,
   "metadata": {},
   "outputs": [
    {
     "data": {
      "text/plain": [
       "Row(artist='Martha Tilston', auth='Logged In', firstName='Colin', gender='M', itemInSession=50, lastName='Freeman', length=277.89016, level='paid', location='Bakersfield, CA', method='PUT', page='NextSong', registration=1538173362000, sessionId=29, song='Rockpools', status=200, ts=1538352117000, userAgent='Mozilla/5.0 (Windows NT 6.1; WOW64; rv:31.0) Gecko/20100101 Firefox/31.0', userId='30')"
      ]
     },
     "execution_count": 7,
     "metadata": {},
     "output_type": "execute_result"
    }
   ],
   "source": [
    "data.head()"
   ]
  },
  {
   "cell_type": "code",
   "execution_count": 8,
   "metadata": {},
   "outputs": [
    {
     "name": "stdout",
     "output_type": "stream",
     "text": [
      "root\n",
      " |-- artist: string (nullable = true)\n",
      " |-- auth: string (nullable = true)\n",
      " |-- firstName: string (nullable = true)\n",
      " |-- gender: string (nullable = true)\n",
      " |-- itemInSession: long (nullable = true)\n",
      " |-- lastName: string (nullable = true)\n",
      " |-- length: double (nullable = true)\n",
      " |-- level: string (nullable = true)\n",
      " |-- location: string (nullable = true)\n",
      " |-- method: string (nullable = true)\n",
      " |-- page: string (nullable = true)\n",
      " |-- registration: long (nullable = true)\n",
      " |-- sessionId: long (nullable = true)\n",
      " |-- song: string (nullable = true)\n",
      " |-- status: long (nullable = true)\n",
      " |-- ts: long (nullable = true)\n",
      " |-- userAgent: string (nullable = true)\n",
      " |-- userId: string (nullable = true)\n",
      "\n"
     ]
    }
   ],
   "source": [
    "data.printSchema()"
   ]
  },
  {
   "cell_type": "code",
   "execution_count": 9,
   "metadata": {},
   "outputs": [
    {
     "name": "stderr",
     "output_type": "stream",
     "text": [
      "                                                                                \r"
     ]
    },
    {
     "data": {
      "text/plain": [
       "DataFrame[summary: string, artist: string, auth: string, firstName: string, gender: string, itemInSession: string, lastName: string, length: string, level: string, location: string, method: string, page: string, registration: string, sessionId: string, song: string, status: string, ts: string, userAgent: string, userId: string]"
      ]
     },
     "execution_count": 9,
     "metadata": {},
     "output_type": "execute_result"
    }
   ],
   "source": [
    "data.describe()\n"
   ]
  },
  {
   "cell_type": "code",
   "execution_count": 10,
   "metadata": {},
   "outputs": [
    {
     "data": {
      "text/plain": [
       "286500"
      ]
     },
     "execution_count": 10,
     "metadata": {},
     "output_type": "execute_result"
    }
   ],
   "source": [
    "data.count()"
   ]
  },
  {
   "cell_type": "code",
   "execution_count": 11,
   "metadata": {},
   "outputs": [
    {
     "name": "stdout",
     "output_type": "stream",
     "text": [
      "+------+\n",
      "|userId|\n",
      "+------+\n",
      "|      |\n",
      "|    10|\n",
      "|   100|\n",
      "|100001|\n",
      "|100002|\n",
      "|100003|\n",
      "|100004|\n",
      "|100005|\n",
      "|100006|\n",
      "|100007|\n",
      "+------+\n",
      "only showing top 10 rows\n",
      "\n"
     ]
    }
   ],
   "source": [
    "data.select(\"userId\").dropDuplicates().sort(\"userId\").show(10)"
   ]
  },
  {
   "cell_type": "code",
   "execution_count": 12,
   "metadata": {},
   "outputs": [
    {
     "name": "stdout",
     "output_type": "stream",
     "text": [
      "+---------+\n",
      "|sessionId|\n",
      "+---------+\n",
      "|        1|\n",
      "|        2|\n",
      "|        3|\n",
      "|        4|\n",
      "|        5|\n",
      "|        6|\n",
      "|        7|\n",
      "|        8|\n",
      "|        9|\n",
      "|       10|\n",
      "+---------+\n",
      "only showing top 10 rows\n",
      "\n"
     ]
    }
   ],
   "source": [
    "data.select(\"sessionId\").dropDuplicates().sort(\"sessionId\").show(10)"
   ]
  },
  {
   "cell_type": "code",
   "execution_count": 13,
   "metadata": {},
   "outputs": [],
   "source": [
    "data = data.dropna(how = 'any', subset = [\"userId\"])"
   ]
  },
  {
   "cell_type": "code",
   "execution_count": 14,
   "metadata": {},
   "outputs": [],
   "source": [
    "number_of_rows = data.count()"
   ]
  },
  {
   "cell_type": "code",
   "execution_count": 15,
   "metadata": {},
   "outputs": [],
   "source": [
    "data = data.filter(data[\"userId\"] != \"\")"
   ]
  },
  {
   "cell_type": "code",
   "execution_count": 16,
   "metadata": {},
   "outputs": [
    {
     "name": "stdout",
     "output_type": "stream",
     "text": [
      "+--------------------+-----+\n",
      "|              artist|count|\n",
      "+--------------------+-----+\n",
      "|      The Black Keys| 1125|\n",
      "|         Silverstein|   60|\n",
      "|           Kate Nash|   99|\n",
      "|        Yann Tiersen|  139|\n",
      "|    Jane's Addiction|   68|\n",
      "|          Tim Hughes|   39|\n",
      "|          Carl Craig|    3|\n",
      "|Dashboard Confess...|   98|\n",
      "|Yonder Mountain S...|   63|\n",
      "|           Los Lobos|   45|\n",
      "|Pete Rock & C.L. ...|    2|\n",
      "|        Ziggy Marley|   28|\n",
      "|      Jarabe De Palo|   83|\n",
      "|               Rufio|   13|\n",
      "|      Jorge Gonzalez|   24|\n",
      "|                Silk|   22|\n",
      "|  The Watts Prophets|    6|\n",
      "|            La Shica|    2|\n",
      "|        Generation X|   19|\n",
      "|    The Flower Kings|    4|\n",
      "+--------------------+-----+\n",
      "only showing top 20 rows\n",
      "\n",
      "+---------+------+\n",
      "|     auth| count|\n",
      "+---------+------+\n",
      "|Cancelled|    52|\n",
      "|Logged In|278102|\n",
      "+---------+------+\n",
      "\n",
      "+----------+-----+\n",
      "| firstName|count|\n",
      "+----------+-----+\n",
      "|    Maddox|  201|\n",
      "|    Karter| 3014|\n",
      "|   Lorelei| 1347|\n",
      "|  Isabella|  910|\n",
      "|  Giovanni|  837|\n",
      "|     Davis|  412|\n",
      "|    Nathan|  489|\n",
      "| Christian| 1003|\n",
      "|     Brisa| 2220|\n",
      "|Alexandria| 2176|\n",
      "|   Spencer| 2544|\n",
      "|    Jordan|   45|\n",
      "|     Jadyn| 1682|\n",
      "|     Anika| 1654|\n",
      "|     Diego|  108|\n",
      "|     Jaden|  234|\n",
      "|     Faigy| 2091|\n",
      "|    Wesley|   73|\n",
      "|     Caleb| 2067|\n",
      "|      Jada| 1342|\n",
      "+----------+-----+\n",
      "only showing top 20 rows\n",
      "\n",
      "+------+------+\n",
      "|gender| count|\n",
      "+------+------+\n",
      "|     F|154578|\n",
      "|     M|123576|\n",
      "+------+------+\n",
      "\n",
      "+-------------+-----+\n",
      "|itemInSession|count|\n",
      "+-------------+-----+\n",
      "|           26| 2126|\n",
      "|           29| 2040|\n",
      "|          474|   49|\n",
      "|          964|    2|\n",
      "|           65| 1296|\n",
      "|          191|  399|\n",
      "|          418|   75|\n",
      "|          541|   29|\n",
      "|          558|   23|\n",
      "|         1010|    2|\n",
      "|          222|  308|\n",
      "|          270|  224|\n",
      "|          293|  192|\n",
      "|          730|    4|\n",
      "|          938|    2|\n",
      "|          243|  268|\n",
      "|          278|  209|\n",
      "|          367|  110|\n",
      "|          442|   65|\n",
      "|          705|    4|\n",
      "+-------------+-----+\n",
      "only showing top 20 rows\n",
      "\n",
      "+--------+-----+\n",
      "|lastName|count|\n",
      "+--------+-----+\n",
      "|Harrison|  149|\n",
      "|Thornton|   73|\n",
      "|    Pena| 2067|\n",
      "|   Jones| 4831|\n",
      "|   Knapp| 1322|\n",
      "|  Henson| 1895|\n",
      "| Aguilar| 2567|\n",
      "| Schmidt|  202|\n",
      "|  Nguyen|   52|\n",
      "|  Farley|  324|\n",
      "|Phillips| 4002|\n",
      "|  Barnes| 1386|\n",
      "| Spencer|  518|\n",
      "|    Rose| 1682|\n",
      "|Campbell|14060|\n",
      "|Williams| 8410|\n",
      "|  Larson| 6105|\n",
      "| Francis| 2076|\n",
      "|   Smith| 1835|\n",
      "|   Lopez|   45|\n",
      "+--------+-----+\n",
      "only showing top 20 rows\n",
      "\n",
      "+---------+-----+\n",
      "|   length|count|\n",
      "+---------+-----+\n",
      "|200.75057|   22|\n",
      "|317.30893|   25|\n",
      "|260.28363|   27|\n",
      "|241.94567|   50|\n",
      "|216.47628|   62|\n",
      "|361.66485|    4|\n",
      "|375.03955|    8|\n",
      "|213.75955|   42|\n",
      "|347.81995|   35|\n",
      "|227.83955|   19|\n",
      "|216.97261|   14|\n",
      "|170.97098|    5|\n",
      "|137.84771|   11|\n",
      "| 26.38322|    9|\n",
      "|262.79138|  116|\n",
      "|231.94077|   21|\n",
      "|429.16526|    2|\n",
      "|356.20526|    7|\n",
      "|401.76281|    2|\n",
      "|387.16036|    2|\n",
      "+---------+-----+\n",
      "only showing top 20 rows\n",
      "\n",
      "+-----+------+\n",
      "|level| count|\n",
      "+-----+------+\n",
      "| free| 55721|\n",
      "| paid|222433|\n",
      "+-----+------+\n",
      "\n",
      "+--------------------+-----+\n",
      "|            location|count|\n",
      "+--------------------+-----+\n",
      "|     Gainesville, FL| 1229|\n",
      "|Atlantic City-Ham...| 2176|\n",
      "|Deltona-Daytona B...|   73|\n",
      "|Kingsport-Bristol...| 1863|\n",
      "|New Haven-Milford...| 4007|\n",
      "|         Dubuque, IA|  651|\n",
      "|Las Vegas-Henders...| 2042|\n",
      "|Indianapolis-Carm...|  970|\n",
      "|Seattle-Tacoma-Be...|  246|\n",
      "|   Winston-Salem, NC|  819|\n",
      "|     Bakersfield, CA| 1775|\n",
      "|Los Angeles-Long ...|30131|\n",
      "|Minneapolis-St. P...| 2134|\n",
      "|San Francisco-Oak...| 2647|\n",
      "|Phoenix-Mesa-Scot...| 4846|\n",
      "|Allentown-Bethleh...|  815|\n",
      "|Miami-Fort Lauder...| 3764|\n",
      "|           Selma, AL| 2027|\n",
      "|          Dayton, OH|  259|\n",
      "|Bridgeport-Stamfo...|  893|\n",
      "+--------------------+-----+\n",
      "only showing top 20 rows\n",
      "\n",
      "+------+------+\n",
      "|method| count|\n",
      "+------+------+\n",
      "|   PUT|257818|\n",
      "|   GET| 20336|\n",
      "+------+------+\n",
      "\n",
      "+--------------------+------+\n",
      "|                page| count|\n",
      "+--------------------+------+\n",
      "|              Cancel|    52|\n",
      "|    Submit Downgrade|    63|\n",
      "|         Thumbs Down|  2546|\n",
      "|                Home| 10082|\n",
      "|           Downgrade|  2055|\n",
      "|         Roll Advert|  3933|\n",
      "|              Logout|  3226|\n",
      "|       Save Settings|   310|\n",
      "|Cancellation Conf...|    52|\n",
      "|               About|   495|\n",
      "|            Settings|  1514|\n",
      "|     Add to Playlist|  6526|\n",
      "|          Add Friend|  4277|\n",
      "|            NextSong|228108|\n",
      "|           Thumbs Up| 12551|\n",
      "|                Help|  1454|\n",
      "|             Upgrade|   499|\n",
      "|               Error|   252|\n",
      "|      Submit Upgrade|   159|\n",
      "+--------------------+------+\n",
      "\n",
      "+-------------+-----+\n",
      "| registration|count|\n",
      "+-------------+-----+\n",
      "|1529027541000| 9632|\n",
      "|1533192032000| 1654|\n",
      "|1537779419000|  512|\n",
      "|1536642109000| 6880|\n",
      "|1537167593000|  108|\n",
      "|1533908361000| 1399|\n",
      "|1536817381000|  918|\n",
      "|1536663902000| 2465|\n",
      "|1537751138000|  955|\n",
      "|1537057938000|  651|\n",
      "|1536303841000|  315|\n",
      "|1534768517000|  861|\n",
      "|1537484200000|  815|\n",
      "|1538050164000| 2064|\n",
      "|1532450666000|  209|\n",
      "|1536032681000|  292|\n",
      "|1538331630000| 3191|\n",
      "|1536102943000|  457|\n",
      "|1536831228000| 1547|\n",
      "|1535623466000|  513|\n",
      "+-------------+-----+\n",
      "only showing top 20 rows\n",
      "\n",
      "+---------+-----+\n",
      "|sessionId|count|\n",
      "+---------+-----+\n",
      "|       29|   42|\n",
      "|       26|   80|\n",
      "|      474|   10|\n",
      "|      418|   90|\n",
      "|       65|  368|\n",
      "|      541|  276|\n",
      "|      558|  167|\n",
      "|      222|  236|\n",
      "|      293|  222|\n",
      "|      270|  135|\n",
      "|      278|  235|\n",
      "|      442|  503|\n",
      "|      367|  170|\n",
      "|      296|  170|\n",
      "|       54|  374|\n",
      "|      277|  103|\n",
      "|      287|  181|\n",
      "|      348|  313|\n",
      "|      415|  118|\n",
      "|      502|   39|\n",
      "+---------+-----+\n",
      "only showing top 20 rows\n",
      "\n",
      "+--------------------+-----+\n",
      "|                song|count|\n",
      "+--------------------+-----+\n",
      "|Never Gonna Be Al...|   50|\n",
      "|         TULENLIEKKI|   16|\n",
      "|The Geeks Were Right|    2|\n",
      "|              Heaven|   86|\n",
      "|      Call Me Manana|    6|\n",
      "|             Push It|   32|\n",
      "|Cool Monsoon (Wea...|    3|\n",
      "|The Fun Lovin' Cr...|    3|\n",
      "|Turn Your Lights ...|    8|\n",
      "|          Growing Up|    6|\n",
      "|          Positivity|    2|\n",
      "|         Miracle Man|    2|\n",
      "|        I'm The Drug|    3|\n",
      "|I've Just Seen A ...|   10|\n",
      "|    Blue Suede Shoes|    3|\n",
      "|       The Beginning|    3|\n",
      "|     Memories of You|    2|\n",
      "|If I Knew Then (W...|    2|\n",
      "|You Ain't Seen No...|   13|\n",
      "|       One Sweet Day|   13|\n",
      "+--------------------+-----+\n",
      "only showing top 20 rows\n",
      "\n",
      "+------+------+\n",
      "|status| count|\n",
      "+------+------+\n",
      "|   307| 23184|\n",
      "|   404|   252|\n",
      "|   200|254718|\n",
      "+------+------+\n",
      "\n",
      "+-------------+-----+\n",
      "|           ts|count|\n",
      "+-------------+-----+\n",
      "|1538512769000|    3|\n",
      "|1538738177000|    2|\n",
      "|1538990917000|    2|\n",
      "|1539197310000|    2|\n",
      "|1538840678000|    2|\n",
      "|1539293311000|    2|\n",
      "|1538678533000|    2|\n",
      "|1538693041000|    2|\n",
      "|1538950842000|    2|\n",
      "|1539072297000|    2|\n",
      "|1538999829000|    2|\n",
      "|1539030925000|    2|\n",
      "|1538398230000|    2|\n",
      "|1538505460000|    2|\n",
      "|1538776068000|    2|\n",
      "|1538993615000|    2|\n",
      "|1539247652000|    3|\n",
      "|1539253303000|    2|\n",
      "|1539266401000|    2|\n",
      "|1538389997000|    2|\n",
      "+-------------+-----+\n",
      "only showing top 20 rows\n",
      "\n",
      "+--------------------+-----+\n",
      "|           userAgent|count|\n",
      "+--------------------+-----+\n",
      "|\"Mozilla/5.0 (Win...| 5238|\n",
      "|Mozilla/5.0 (X11;...|   62|\n",
      "|\"Mozilla/5.0 (Mac...|18448|\n",
      "|Mozilla/5.0 (Wind...| 3214|\n",
      "|Mozilla/5.0 (Wind...| 5989|\n",
      "|Mozilla/5.0 (comp...| 8624|\n",
      "|\"Mozilla/5.0 (Win...| 7624|\n",
      "|Mozilla/5.0 (Maci...|10300|\n",
      "|\"Mozilla/5.0 (iPh...| 1976|\n",
      "|\"Mozilla/5.0 (Win...|15395|\n",
      "|Mozilla/5.0 (Wind...|16700|\n",
      "|Mozilla/5.0 (comp...|  815|\n",
      "|\"Mozilla/5.0 (Mac...|  235|\n",
      "|\"Mozilla/5.0 (Mac...|  512|\n",
      "|\"Mozilla/5.0 (Win...|14598|\n",
      "|\"Mozilla/5.0 (Win...| 2868|\n",
      "|\"Mozilla/5.0 (iPa...| 8912|\n",
      "|Mozilla/5.0 (Wind...| 2442|\n",
      "|\"Mozilla/5.0 (Mac...|17348|\n",
      "|\"Mozilla/5.0 (Win...| 2132|\n",
      "+--------------------+-----+\n",
      "only showing top 20 rows\n",
      "\n",
      "+------+-----+\n",
      "|userId|count|\n",
      "+------+-----+\n",
      "|    51| 2464|\n",
      "|   124| 4825|\n",
      "|     7|  201|\n",
      "|    54| 3437|\n",
      "|    15| 2278|\n",
      "|   132| 2304|\n",
      "|   101| 2149|\n",
      "|    11|  848|\n",
      "|   138| 2469|\n",
      "|    29| 3603|\n",
      "|    69| 1342|\n",
      "|    42| 4257|\n",
      "|   112|  292|\n",
      "|    87| 1003|\n",
      "|    73|  457|\n",
      "|     3|  254|\n",
      "|    30| 1775|\n",
      "|   113| 1895|\n",
      "|    34|   73|\n",
      "|    59|  872|\n",
      "+------+-----+\n",
      "only showing top 20 rows\n",
      "\n"
     ]
    }
   ],
   "source": [
    "# loop over each column and count duplicates\n",
    "for column in data.columns:\n",
    "    duplicates = data.groupBy(column).agg(count(\"*\").alias(\"count\")).filter(\"count > 1\")\n",
    "    duplicates.show()\n"
   ]
  },
  {
   "cell_type": "code",
   "execution_count": 17,
   "metadata": {},
   "outputs": [],
   "source": [
    "data_no_duplicated = data.select(\"*\").dropDuplicates()\n"
   ]
  },
  {
   "cell_type": "markdown",
   "metadata": {},
   "source": [
    "# Exploratory Data Analysis\n",
    "When you're working with the full dataset, perform EDA by loading a small subset of the data and doing basic manipulations within Spark. In this workspace, you are already provided a small subset of data you can explore.\n",
    "\n",
    "### Define Churn\n",
    "\n",
    "Once you've done some preliminary analysis, create a column `Churn` to use as the label for your model. I suggest using the `Cancellation Confirmation` events to define your churn, which happen for both paid and free users. As a bonus task, you can also look into the `Downgrade` events.\n",
    "\n",
    "### Explore Data\n",
    "Once you've defined churn, perform some exploratory data analysis to observe the behavior for users who stayed vs users who churned. You can start by exploring aggregates on these two groups of users, observing how much of a specific action they experienced per a certain time unit or number of songs played."
   ]
  },
  {
   "cell_type": "code",
   "execution_count": 18,
   "metadata": {},
   "outputs": [],
   "source": [
    "# flag the records where Cancellation Confirmation page is reached - 1 if it is and 0 if not\n",
    "churn_event = udf(lambda x: 1 if x == \"Cancellation Confirmation\" else 0, IntegerType())\n",
    "\n",
    "#creating churn column\n",
    "data_churn = data_no_duplicated.withColumn(\"Churn\", churn_event(\"page\"))\n"
   ]
  },
  {
   "cell_type": "markdown",
   "metadata": {},
   "source": [
    "Now this is very crucial step: Since all users are all `Churn == 0` and then in a time they become 1, so we have to make the churn to the sum of the value"
   ]
  },
  {
   "cell_type": "code",
   "execution_count": 19,
   "metadata": {},
   "outputs": [],
   "source": [
    "# sort records for a user in reverse time order so we can add up vals in churn column\n",
    "W = Window.partitionBy(\"userId\").orderBy(desc(\"ts\")).rangeBetween(Window.unboundedPreceding, 0)\n",
    "\n",
    "# create column churn which contains sum of churn 1s over records\n",
    "data_churn = data_churn.withColumn(\"Churn\", Fsum(\"Churn\").over(W))"
   ]
  },
  {
   "cell_type": "code",
   "execution_count": 20,
   "metadata": {},
   "outputs": [
    {
     "name": "stderr",
     "output_type": "stream",
     "text": [
      "                                                                                \r"
     ]
    }
   ],
   "source": [
    "data_pd = data_churn.toPandas()"
   ]
  },
  {
   "cell_type": "code",
   "execution_count": 21,
   "metadata": {},
   "outputs": [
    {
     "data": {
      "text/html": [
       "<style type=\"text/css\">\n",
       "#T_42dd6_row0_col0 {\n",
       "  background-color: #023858;\n",
       "  color: #f1f1f1;\n",
       "}\n",
       "#T_42dd6_row1_col0 {\n",
       "  background-color: #fff7fb;\n",
       "  color: #000000;\n",
       "}\n",
       "</style>\n",
       "<table id=\"T_42dd6\">\n",
       "  <thead>\n",
       "    <tr>\n",
       "      <th class=\"blank level0\" >&nbsp;</th>\n",
       "      <th id=\"T_42dd6_level0_col0\" class=\"col_heading level0 col0\" >Churn</th>\n",
       "    </tr>\n",
       "  </thead>\n",
       "  <tbody>\n",
       "    <tr>\n",
       "      <th id=\"T_42dd6_level0_row0\" class=\"row_heading level0 row0\" >0</th>\n",
       "      <td id=\"T_42dd6_row0_col0\" class=\"data row0 col0\" >233290</td>\n",
       "    </tr>\n",
       "    <tr>\n",
       "      <th id=\"T_42dd6_level0_row1\" class=\"row_heading level0 row1\" >1</th>\n",
       "      <td id=\"T_42dd6_row1_col0\" class=\"data row1 col0\" >44864</td>\n",
       "    </tr>\n",
       "  </tbody>\n",
       "</table>\n"
      ],
      "text/plain": [
       "<pandas.io.formats.style.Styler at 0x7fae80a5e5e0>"
      ]
     },
     "execution_count": 21,
     "metadata": {},
     "output_type": "execute_result"
    }
   ],
   "source": [
    "data_pd['Churn'].value_counts().to_frame().style.background_gradient()\n"
   ]
  },
  {
   "cell_type": "code",
   "execution_count": 22,
   "metadata": {},
   "outputs": [
    {
     "data": {
      "text/html": [
       "<div>\n",
       "<style scoped>\n",
       "    .dataframe tbody tr th:only-of-type {\n",
       "        vertical-align: middle;\n",
       "    }\n",
       "\n",
       "    .dataframe tbody tr th {\n",
       "        vertical-align: top;\n",
       "    }\n",
       "\n",
       "    .dataframe thead th {\n",
       "        text-align: right;\n",
       "    }\n",
       "</style>\n",
       "<table border=\"1\" class=\"dataframe\">\n",
       "  <thead>\n",
       "    <tr style=\"text-align: right;\">\n",
       "      <th></th>\n",
       "      <th>artist</th>\n",
       "      <th>auth</th>\n",
       "      <th>firstName</th>\n",
       "      <th>gender</th>\n",
       "      <th>itemInSession</th>\n",
       "      <th>lastName</th>\n",
       "      <th>length</th>\n",
       "      <th>level</th>\n",
       "      <th>location</th>\n",
       "      <th>method</th>\n",
       "      <th>page</th>\n",
       "      <th>registration</th>\n",
       "      <th>sessionId</th>\n",
       "      <th>song</th>\n",
       "      <th>status</th>\n",
       "      <th>ts</th>\n",
       "      <th>userAgent</th>\n",
       "      <th>userId</th>\n",
       "      <th>Churn</th>\n",
       "    </tr>\n",
       "  </thead>\n",
       "  <tbody>\n",
       "    <tr>\n",
       "      <th>0</th>\n",
       "      <td>None</td>\n",
       "      <td>Logged In</td>\n",
       "      <td>Darianna</td>\n",
       "      <td>F</td>\n",
       "      <td>34</td>\n",
       "      <td>Carpenter</td>\n",
       "      <td>NaN</td>\n",
       "      <td>free</td>\n",
       "      <td>Bridgeport-Stamford-Norwalk, CT</td>\n",
       "      <td>PUT</td>\n",
       "      <td>Logout</td>\n",
       "      <td>1538016340000</td>\n",
       "      <td>187</td>\n",
       "      <td>None</td>\n",
       "      <td>307</td>\n",
       "      <td>1542823952000</td>\n",
       "      <td>\"Mozilla/5.0 (iPhone; CPU iPhone OS 7_1_2 like...</td>\n",
       "      <td>100010</td>\n",
       "      <td>0</td>\n",
       "    </tr>\n",
       "    <tr>\n",
       "      <th>1</th>\n",
       "      <td>Lily Allen</td>\n",
       "      <td>Logged In</td>\n",
       "      <td>Darianna</td>\n",
       "      <td>F</td>\n",
       "      <td>33</td>\n",
       "      <td>Carpenter</td>\n",
       "      <td>185.25995</td>\n",
       "      <td>free</td>\n",
       "      <td>Bridgeport-Stamford-Norwalk, CT</td>\n",
       "      <td>PUT</td>\n",
       "      <td>NextSong</td>\n",
       "      <td>1538016340000</td>\n",
       "      <td>187</td>\n",
       "      <td>22</td>\n",
       "      <td>200</td>\n",
       "      <td>1542823951000</td>\n",
       "      <td>\"Mozilla/5.0 (iPhone; CPU iPhone OS 7_1_2 like...</td>\n",
       "      <td>100010</td>\n",
       "      <td>0</td>\n",
       "    </tr>\n",
       "    <tr>\n",
       "      <th>2</th>\n",
       "      <td>John Waite</td>\n",
       "      <td>Logged In</td>\n",
       "      <td>Darianna</td>\n",
       "      <td>F</td>\n",
       "      <td>32</td>\n",
       "      <td>Carpenter</td>\n",
       "      <td>269.76608</td>\n",
       "      <td>free</td>\n",
       "      <td>Bridgeport-Stamford-Norwalk, CT</td>\n",
       "      <td>PUT</td>\n",
       "      <td>NextSong</td>\n",
       "      <td>1538016340000</td>\n",
       "      <td>187</td>\n",
       "      <td>Missing You</td>\n",
       "      <td>200</td>\n",
       "      <td>1542823682000</td>\n",
       "      <td>\"Mozilla/5.0 (iPhone; CPU iPhone OS 7_1_2 like...</td>\n",
       "      <td>100010</td>\n",
       "      <td>0</td>\n",
       "    </tr>\n",
       "    <tr>\n",
       "      <th>3</th>\n",
       "      <td>Hermano</td>\n",
       "      <td>Logged In</td>\n",
       "      <td>Darianna</td>\n",
       "      <td>F</td>\n",
       "      <td>31</td>\n",
       "      <td>Carpenter</td>\n",
       "      <td>115.90485</td>\n",
       "      <td>free</td>\n",
       "      <td>Bridgeport-Stamford-Norwalk, CT</td>\n",
       "      <td>PUT</td>\n",
       "      <td>NextSong</td>\n",
       "      <td>1538016340000</td>\n",
       "      <td>187</td>\n",
       "      <td>Letters From Madrid</td>\n",
       "      <td>200</td>\n",
       "      <td>1542823567000</td>\n",
       "      <td>\"Mozilla/5.0 (iPhone; CPU iPhone OS 7_1_2 like...</td>\n",
       "      <td>100010</td>\n",
       "      <td>0</td>\n",
       "    </tr>\n",
       "    <tr>\n",
       "      <th>4</th>\n",
       "      <td>None</td>\n",
       "      <td>Logged In</td>\n",
       "      <td>Darianna</td>\n",
       "      <td>F</td>\n",
       "      <td>30</td>\n",
       "      <td>Carpenter</td>\n",
       "      <td>NaN</td>\n",
       "      <td>free</td>\n",
       "      <td>Bridgeport-Stamford-Norwalk, CT</td>\n",
       "      <td>GET</td>\n",
       "      <td>Roll Advert</td>\n",
       "      <td>1538016340000</td>\n",
       "      <td>187</td>\n",
       "      <td>None</td>\n",
       "      <td>200</td>\n",
       "      <td>1542823257000</td>\n",
       "      <td>\"Mozilla/5.0 (iPhone; CPU iPhone OS 7_1_2 like...</td>\n",
       "      <td>100010</td>\n",
       "      <td>0</td>\n",
       "    </tr>\n",
       "  </tbody>\n",
       "</table>\n",
       "</div>"
      ],
      "text/plain": [
       "       artist       auth firstName gender  itemInSession   lastName  \\\n",
       "0        None  Logged In  Darianna      F             34  Carpenter   \n",
       "1  Lily Allen  Logged In  Darianna      F             33  Carpenter   \n",
       "2  John Waite  Logged In  Darianna      F             32  Carpenter   \n",
       "3     Hermano  Logged In  Darianna      F             31  Carpenter   \n",
       "4        None  Logged In  Darianna      F             30  Carpenter   \n",
       "\n",
       "      length level                         location method         page  \\\n",
       "0        NaN  free  Bridgeport-Stamford-Norwalk, CT    PUT       Logout   \n",
       "1  185.25995  free  Bridgeport-Stamford-Norwalk, CT    PUT     NextSong   \n",
       "2  269.76608  free  Bridgeport-Stamford-Norwalk, CT    PUT     NextSong   \n",
       "3  115.90485  free  Bridgeport-Stamford-Norwalk, CT    PUT     NextSong   \n",
       "4        NaN  free  Bridgeport-Stamford-Norwalk, CT    GET  Roll Advert   \n",
       "\n",
       "    registration  sessionId                 song  status             ts  \\\n",
       "0  1538016340000        187                 None     307  1542823952000   \n",
       "1  1538016340000        187                   22     200  1542823951000   \n",
       "2  1538016340000        187          Missing You     200  1542823682000   \n",
       "3  1538016340000        187  Letters From Madrid     200  1542823567000   \n",
       "4  1538016340000        187                 None     200  1542823257000   \n",
       "\n",
       "                                           userAgent  userId  Churn  \n",
       "0  \"Mozilla/5.0 (iPhone; CPU iPhone OS 7_1_2 like...  100010      0  \n",
       "1  \"Mozilla/5.0 (iPhone; CPU iPhone OS 7_1_2 like...  100010      0  \n",
       "2  \"Mozilla/5.0 (iPhone; CPU iPhone OS 7_1_2 like...  100010      0  \n",
       "3  \"Mozilla/5.0 (iPhone; CPU iPhone OS 7_1_2 like...  100010      0  \n",
       "4  \"Mozilla/5.0 (iPhone; CPU iPhone OS 7_1_2 like...  100010      0  "
      ]
     },
     "execution_count": 22,
     "metadata": {},
     "output_type": "execute_result"
    }
   ],
   "source": [
    "data_pd.head()"
   ]
  },
  {
   "cell_type": "code",
   "execution_count": 23,
   "metadata": {},
   "outputs": [
    {
     "name": "stdout",
     "output_type": "stream",
     "text": [
      "Percentage of records that is omitted becuase of empty id is: 0.03000496128044177\n"
     ]
    }
   ],
   "source": [
    "print(f\"Percentage of records that is omitted becuase of empty id is: {(number_of_rows - data_pd.shape[0])/data_pd.shape[0] }\")"
   ]
  },
  {
   "cell_type": "code",
   "execution_count": 24,
   "metadata": {},
   "outputs": [
    {
     "data": {
      "text/plain": [
       "44864"
      ]
     },
     "execution_count": 24,
     "metadata": {},
     "output_type": "execute_result"
    }
   ],
   "source": [
    "data_pd[data_pd['Churn']==1].userId.count()\n",
    "\n",
    "# Number of churn customers 😞"
   ]
  },
  {
   "cell_type": "code",
   "execution_count": 25,
   "metadata": {},
   "outputs": [
    {
     "data": {
      "text/plain": [
       "(278154, 19)"
      ]
     },
     "execution_count": 25,
     "metadata": {},
     "output_type": "execute_result"
    }
   ],
   "source": [
    "data_pd.shape"
   ]
  },
  {
   "cell_type": "code",
   "execution_count": 26,
   "metadata": {},
   "outputs": [
    {
     "data": {
      "text/plain": [
       "artist           50046\n",
       "auth                 0\n",
       "firstName            0\n",
       "gender               0\n",
       "itemInSession        0\n",
       "lastName             0\n",
       "length           50046\n",
       "level                0\n",
       "location             0\n",
       "method               0\n",
       "page                 0\n",
       "registration         0\n",
       "sessionId            0\n",
       "song             50046\n",
       "status               0\n",
       "ts                   0\n",
       "userAgent            0\n",
       "userId               0\n",
       "Churn                0\n",
       "dtype: int64"
      ]
     },
     "execution_count": 26,
     "metadata": {},
     "output_type": "execute_result"
    }
   ],
   "source": [
    "data_pd.isnull().sum()"
   ]
  },
  {
   "cell_type": "code",
   "execution_count": 27,
   "metadata": {},
   "outputs": [],
   "source": [
    "data_pd.dropna(inplace=True)"
   ]
  },
  {
   "cell_type": "code",
   "execution_count": 28,
   "metadata": {},
   "outputs": [
    {
     "data": {
      "text/plain": [
       "(228108, 19)"
      ]
     },
     "execution_count": 28,
     "metadata": {},
     "output_type": "execute_result"
    }
   ],
   "source": [
    "data_pd.shape"
   ]
  },
  {
   "cell_type": "code",
   "execution_count": 29,
   "metadata": {},
   "outputs": [
    {
     "data": {
      "image/png": "[encoded data removed]",
      "text/plain": [
       "<Figure size 432x288 with 1 Axes>"
      ]
     },
     "metadata": {
      "needs_background": "light"
     },
     "output_type": "display_data"
    }
   ],
   "source": [
    "# create a density plot\n",
    "plt.hist(data=data_pd, x='length', bins=50, density=True, alpha=0.7\n",
    "        )\n",
    "\n",
    "# add a vertical line at the median length\n",
    "median_length = data_pd['length'].median()\n",
    "plt.axvline(median_length, color='red', linestyle='--')\n",
    "\n",
    "# set the x and y labels\n",
    "plt.xlabel('Length')\n",
    "plt.ylabel('Density')\n",
    "\n",
    "# add a title\n",
    "plt.title('Distribution of sequence lengths')\n",
    "\n",
    "# show the plot\n",
    "plt.show()"
   ]
  },
  {
   "cell_type": "code",
   "execution_count": 30,
   "metadata": {},
   "outputs": [
    {
     "name": "stderr",
     "output_type": "stream",
     "text": [
      "[Stage 77:>                                                         (0 + 8) / 8]\r"
     ]
    },
    {
     "name": "stdout",
     "output_type": "stream",
     "text": [
      "+-----+--------------------+-----+\n",
      "|Churn|                page|count|\n",
      "+-----+--------------------+-----+\n",
      "|    0|       Save Settings|  102|\n",
      "|    1|           Thumbs Up|   50|\n",
      "|    1|          Add Friend|   44|\n",
      "|    1|     Add to Playlist|   50|\n",
      "|    0|            Settings|  152|\n",
      "|    0|          Add Friend|  162|\n",
      "|    1|             Upgrade|   37|\n",
      "|    1|              Logout|   46|\n",
      "|    1|    Submit Downgrade|    9|\n",
      "|    1|         Thumbs Down|   48|\n",
      "|    1|                Help|   43|\n",
      "|    1|           Downgrade|   35|\n",
      "|    1|               Error|   22|\n",
      "|    0|               Error|   95|\n",
      "|    0|                Help|  149|\n",
      "|    0|         Thumbs Down|  155|\n",
      "|    0|    Submit Downgrade|   40|\n",
      "|    1|            Settings|   43|\n",
      "|    0|            NextSong|  173|\n",
      "|    0|           Downgrade|  119|\n",
      "|    0|         Roll Advert|  157|\n",
      "|    1|      Submit Upgrade|   29|\n",
      "|    1|                Home|   51|\n",
      "|    1|         Roll Advert|   50|\n",
      "|    0|      Submit Upgrade|  102|\n",
      "|    0|              Logout|  167|\n",
      "|    1|              Cancel|   52|\n",
      "|    1|       Save Settings|   30|\n",
      "|    0|                Home|  172|\n",
      "|    0|           Thumbs Up|  170|\n",
      "|    0|             Upgrade|  131|\n",
      "|    1|               About|   31|\n",
      "|    1|            NextSong|   52|\n",
      "|    0|               About|  124|\n",
      "|    1|Cancellation Conf...|   52|\n",
      "|    0|     Add to Playlist|  165|\n",
      "+-----+--------------------+-----+\n",
      "\n"
     ]
    },
    {
     "name": "stderr",
     "output_type": "stream",
     "text": [
      "                                                                                \r"
     ]
    }
   ],
   "source": [
    "df_col = data_churn.select(['userId', 'Churn', 'page']).dropDuplicates().groupBy(['Churn', 'page']).count()\n",
    "df_col.show(40)"
   ]
  },
  {
   "cell_type": "code",
   "execution_count": 31,
   "metadata": {},
   "outputs": [],
   "source": [
    "# define the window specification\n",
    "window = Window.partitionBy(\"userId\") \\\n",
    "               .orderBy(desc(\"ts\")) \\\n",
    "               .rangeBetween(Window.unboundedPreceding, 0)\n",
    "\n",
    "# add a new column to the dataframe, called \"Churn\"\n",
    "# this column contains the cumulative sum of the \"Churn\" column for each user, sorted in reverse time order\n",
    "data_churn = data_churn.withColumn(\"Churn\", sum(\"Churn\").over(window))"
   ]
  },
  {
   "cell_type": "code",
   "execution_count": null,
   "metadata": {},
   "outputs": [
    {
     "name": "stderr",
     "output_type": "stream",
     "text": [
      "                                                                                \r"
     ]
    }
   ],
   "source": [
    "# get all columns except for userId and churn\n",
    "columns = ['gender', 'level','page']\n",
    "\n",
    "\n",
    "# create subplots\n",
    "fig, axs = plt.subplots(ncols=len(columns), figsize=(18, 6))\n",
    "\n",
    "# iterate over columns and create a bar plot for each one\n",
    "for i, col in enumerate(columns):\n",
    "    # group by column and churn and count\n",
    "    df_col = data_churn.select(['userId', 'Churn', col]).dropDuplicates().groupBy(['Churn', col]).count()\n",
    "    # collect data as a list of rows\n",
    "    rows = df_col.collect()\n",
    "    # convert rows to a list of dictionaries\n",
    "    data = [{col: r[col], 'count': r['count'], 'Churn': r['Churn']} for r in rows]\n",
    "    # set order for plotting\n",
    "    data = sorted(data, key=lambda x: x['count'], reverse=True)\n",
    "    # plot bar chart\n",
    "    ax = sns.barplot(x=col, y='count', hue='Churn', data=pd.DataFrame(data), ax=axs[i],\n",
    "                    palette=['green', 'red'])\n",
    "    # set title\n",
    "    ax.set_title(f'Number of Users That Churned by {col}')\n",
    "    # set legend\n",
    "    ax.legend(title='Churn', loc='best', labels=['Not Churned', 'Churned'])\n",
    "    # set xlabel rotation\n",
    "    ax.tick_params(axis='x', rotation=90)\n",
    "\n",
    "# set overall title\n",
    "fig.suptitle('Churn by User Attributes')\n",
    "# adjust spacing between subplots\n",
    "fig.tight_layout()\n"
   ]
  },
  {
   "cell_type": "code",
   "execution_count": null,
   "metadata": {},
   "outputs": [],
   "source": [
    "group_by_page = data_churn.select(['userId', 'Churn', 'page'])\\\n",
    ".groupBy('page','Churn')\\\n",
    ".count()\\\n",
    ".toPandas() "
   ]
  },
  {
   "cell_type": "code",
   "execution_count": null,
   "metadata": {},
   "outputs": [],
   "source": [
    "# calculate counts of customers who churned and those who stayed\n",
    "churn_count = group_by_page.loc[group_by_page['Churn'] == 1, 'count'].sum()\n",
    "stay_count = group_by_page.loc[group_by_page['Churn'] == 0, 'count'].sum()\n",
    "\n",
    "# calculate the rate of pages visited by those who churned vs. those who stayed\n",
    "group_by_page['rate'] = group_by_page['count'] / np.where(\n",
    "    group_by_page['Churn'] == 0, stay_count, churn_count)\n",
    "group_by_page\n"
   ]
  },
  {
   "cell_type": "code",
   "execution_count": null,
   "metadata": {},
   "outputs": [],
   "source": [
    "# plot the pages by churn\n",
    "plt.figure(figsize=[10,8])\n",
    "ax = sns.scatterplot(data=group_by_page, x='rate', y='page', hue='Churn', s=200)\n",
    "\n",
    "plt.title('Rate of Pages Navigated to by Users that Churned vs. Users that Stayed')\n",
    "plt.xlabel('Rate of pages visited')\n",
    "plt.ylabel('Page')\n",
    "plt.show()\n"
   ]
  },
  {
   "cell_type": "code",
   "execution_count": null,
   "metadata": {},
   "outputs": [],
   "source": [
    "# define a UDF to extract the hour from the timestamp\n",
    "get_hour = udf(lambda x: datetime.datetime.fromtimestamp(x / 1000.0).hour)\n",
    "\n",
    "# create a new column for the hour\n",
    "df = data_churn.withColumn(\"hour\", get_hour(data_churn.ts))\n",
    "\n",
    "# filter the data for users who did not churn and navigated to the NextSong page\n",
    "songs_in_hour_stay = df.filter((df.page == \"NextSong\") )\n",
    "\n",
    "# group by hour and count the number of NextSong pages\n",
    "songs_in_hour_stay = songs_in_hour_stay.groupBy([\"hour\", \"Churn\"]).count()\n",
    "\n",
    "# sort the data by hour as a float\n",
    "songs_in_hour_stay = songs_in_hour_stay.orderBy(col(\"hour\").cast(\"float\"))\n",
    "\n",
    "# convert the data to a pandas dataframe\n",
    "songs_in_hour_stay_pd = songs_in_hour_stay.toPandas()\n",
    "\n",
    "# convert the hour column to numeric data type\n",
    "songs_in_hour_stay_pd[\"hour\"] = pd.to_numeric(songs_in_hour_stay_pd[\"hour\"])\n"
   ]
  },
  {
   "cell_type": "code",
   "execution_count": null,
   "metadata": {},
   "outputs": [],
   "source": [
    "songs_in_hour_stay_pd"
   ]
  },
  {
   "cell_type": "code",
   "execution_count": null,
   "metadata": {},
   "outputs": [],
   "source": [
    "#plot the distribution\n",
    "plt.figure(figsize=[10, 8])\n",
    "sns.lineplot(data=songs_in_hour_stay_pd, x='hour', y='count', hue = \"Churn\")\n",
    "plt.xlim(-1, 24)\n",
    "plt.xlabel(\"Hour\")\n",
    "plt.ylabel(\"Songs played\")\n",
    "plt.title(\"Number of Songs Played per Hour ( Churn & Non-Churn Users)\");\n"
   ]
  },
  {
   "cell_type": "markdown",
   "metadata": {},
   "source": [
    "This is somewhat what we expect!"
   ]
  },
  {
   "cell_type": "code",
   "execution_count": null,
   "metadata": {},
   "outputs": [],
   "source": [
    "\n",
    "df_opsys = data_churn.select(\"userId\", \"userAgent\", \"Churn\").dropDuplicates(['userId']).toPandas()\n",
    "\n",
    "# List of browsers to extract\n",
    "browser_list = [\"Chrome\", \"Firefox\", \"Safari\", \"Trident\"]\n",
    "\n",
    "# Extract the browser from the user agent string and create a new column\n",
    "df_opsys['browser'] = df_opsys.userAgent.str.extract('(?i)({0})'.format('|'.join(browser_list)))\n",
    "\n",
    "# Group the data by OS and browser and get the count\n",
    "grouped_data = df_opsys.groupby(['Churn', 'browser']).size().unstack()\n",
    "\n",
    "# Plot a bar chart for each group\n",
    "grouped_data.plot(kind='bar', layout=(2,2), figsize=(10,8))\n",
    "\n",
    "# Show the plot\n",
    "plt.show()\n",
    "\n"
   ]
  },
  {
   "cell_type": "code",
   "execution_count": null,
   "metadata": {},
   "outputs": [],
   "source": [
    "# Subtract registration from ts and create a new column\n",
    "days_df = data_churn.withColumn(\"diif_days\", (data_churn['ts']) - (data_churn['registration']))\n",
    "\n",
    "# Convert delta_days to days and create a new column\n",
    "days_df_pd = days_df.withColumn(\"days\", days_df['diif_days']/(1000*3600*24)).toPandas()\n",
    "\n",
    "# # Create the violin plot\n",
    "plt.figure(figsize=[8,6])\n",
    "sns.violinplot(data=days_df_pd, x='Churn', y='days')\n",
    "plt.title('Count of Users that Churned vs. Users that Stayed by Days Since Registering')\n",
    "plt.ylabel(\"Days Since Registered\")\n",
    "\n",
    "# Show the plot\n",
    "plt.show()\n",
    "\n"
   ]
  },
  {
   "cell_type": "markdown",
   "metadata": {},
   "source": [
    "# Feature Engineering\n",
    "Once you've familiarized yourself with the data, build out the features you find promising to train your model on. To work with the full dataset, you can follow the following steps.\n",
    "- Write a script to extract the necessary features from the smaller subset of data\n",
    "- Ensure that your script is scalable, using the best practices discussed in Lesson 3\n",
    "- Try your script on the full data set, debugging your script if necessary\n",
    "\n",
    "If you are working in the classroom workspace, you can just extract features based on the small subset of data contained here. Be sure to transfer over this work to the larger dataset when you work on your Spark cluster."
   ]
  },
  {
   "cell_type": "markdown",
   "metadata": {},
   "source": [
    "#### Gender"
   ]
  },
  {
   "cell_type": "code",
   "execution_count": null,
   "metadata": {},
   "outputs": [],
   "source": [
    "data_gender = data_churn\\\n",
    ".select(['userId', 'gender'])\\\n",
    ".dropDuplicates()\\\n",
    ".withColumn('gender', when(col('gender') == 'M', 1)\\\n",
    ".otherwise(0))"
   ]
  },
  {
   "cell_type": "code",
   "execution_count": null,
   "metadata": {},
   "outputs": [],
   "source": [
    "data_gender.show(10)"
   ]
  },
  {
   "cell_type": "code",
   "execution_count": null,
   "metadata": {},
   "outputs": [],
   "source": [
    "from pyspark.sql.functions import dense_rank\n",
    "data_level = data_churn.select(['userId', 'level', 'ts']) \\\n",
    ".dropDuplicates() \\\n",
    ".sort('userId') \\\n",
    ".withColumn(\"uptodate\", dense_rank() \\\n",
    ".over(Window.partitionBy(\"userId\") \\\n",
    ".orderBy(desc(\"ts\")))) "
   ]
  },
  {
   "cell_type": "code",
   "execution_count": null,
   "metadata": {},
   "outputs": [],
   "source": [
    "data_level.show(10)"
   ]
  },
  {
   "cell_type": "code",
   "execution_count": null,
   "metadata": {},
   "outputs": [],
   "source": [
    "data_level_f = data_level \\\n",
    ".filter(data_level.uptodate==1) \\\n",
    ".drop('ts', 'uptodate') \\\n",
    ".withColumn('level', when(col('level') == 'paid', 1).otherwise(0))\n",
    " "
   ]
  },
  {
   "cell_type": "code",
   "execution_count": null,
   "metadata": {},
   "outputs": [],
   "source": [
    "data_level_f.show(10)"
   ]
  },
  {
   "cell_type": "code",
   "execution_count": null,
   "metadata": {},
   "outputs": [],
   "source": [
    "data_artist = data_churn\\\n",
    ".select(\"userId\", \"artist\")\\\n",
    ".dropDuplicates()\\\n",
    ".groupby(\"userId\")\\\n",
    ".count()\\\n",
    ".withColumnRenamed(\"count\", \"number_artist_listen\")\n",
    "\n"
   ]
  },
  {
   "cell_type": "code",
   "execution_count": null,
   "metadata": {},
   "outputs": [],
   "source": [
    "data_artist.show(10)"
   ]
  },
  {
   "cell_type": "code",
   "execution_count": null,
   "metadata": {},
   "outputs": [],
   "source": [
    "data_song = data_churn\\\n",
    ".select([\"userId\", \"page\"]) \\\n",
    ".withColumn(\"n_song\", when(col(\"page\") == \"NextSong\", 1).otherwise(0)) \\\n",
    ".groupBy(\"userId\") \\\n",
    ".agg({'n_song': 'avg'}) \\\n",
    ".withColumnRenamed('avg(n_song)', 'nsong')"
   ]
  },
  {
   "cell_type": "code",
   "execution_count": null,
   "metadata": {},
   "outputs": [],
   "source": [
    "data_song.show()"
   ]
  },
  {
   "cell_type": "code",
   "execution_count": null,
   "metadata": {},
   "outputs": [],
   "source": [
    "data_playlist = data_churn\\\n",
    ".select([\"userId\", \"page\"]) \\\n",
    ".withColumn(\"p_list\", when(col(\"page\") == \"Add to Playlist\", 1).otherwise(0)) \\\n",
    ".groupBy(\"userId\") \\\n",
    ".agg({'p_list': 'count'}) \\\n",
    ".withColumnRenamed('count(p_list)', 'p_list')"
   ]
  },
  {
   "cell_type": "code",
   "execution_count": null,
   "metadata": {},
   "outputs": [],
   "source": [
    "data_ad = data_churn\\\n",
    ".select([\"userId\", \"page\"]) \\\n",
    ".withColumn(\"ad\", when(col(\"page\") == \"Roll Advert\", 1).otherwise(0)) \\\n",
    ".groupBy(\"userId\") \\\n",
    ".agg({'ad': 'sum'}) \\\n",
    ".withColumnRenamed('sum(ad)', 'ad')"
   ]
  },
  {
   "cell_type": "code",
   "execution_count": null,
   "metadata": {},
   "outputs": [],
   "source": [
    "data_playlist.show(10)"
   ]
  },
  {
   "cell_type": "code",
   "execution_count": null,
   "metadata": {},
   "outputs": [],
   "source": [
    "data_ad.show(10)"
   ]
  },
  {
   "cell_type": "code",
   "execution_count": null,
   "metadata": {},
   "outputs": [],
   "source": [
    "data_likes = data_playlist = data_churn\\\n",
    ".select([\"userId\", \"page\"]) \\\n",
    ".withColumn(\"n_like\", when(col(\"page\") == \"Thumbs Up\", 1).otherwise(0)) \\\n",
    ".groupBy(\"userId\") \\\n",
    ".agg({'n_like': 'sum'}) \\\n",
    ".withColumnRenamed('sum(n_like)', 'thumbsup')"
   ]
  },
  {
   "cell_type": "code",
   "execution_count": null,
   "metadata": {},
   "outputs": [],
   "source": [
    "data_likes.show(10)"
   ]
  },
  {
   "cell_type": "code",
   "execution_count": null,
   "metadata": {},
   "outputs": [],
   "source": [
    "data_dlikes =  data_churn\\\n",
    ".select([\"userId\", \"page\"]) \\\n",
    ".withColumn(\"n_dlike\", when(col(\"page\") == \"Thumbs Down\", 1).otherwise(0)) \\\n",
    ".groupBy(\"userId\") \\\n",
    ".agg({'n_dlike': 'sum'}) \\\n",
    ".withColumnRenamed('sum(n_dlike)', 'thumsdown')"
   ]
  },
  {
   "cell_type": "code",
   "execution_count": null,
   "metadata": {},
   "outputs": [],
   "source": [
    "data_dlikes.show(10)"
   ]
  },
  {
   "cell_type": "code",
   "execution_count": null,
   "metadata": {},
   "outputs": [],
   "source": [
    "data_dgrade =  data_churn\\\n",
    ".select([\"userId\", \"page\"]) \\\n",
    ".withColumn(\"n_dgrade\", when(col(\"page\") == \"Downgrade\", 1).otherwise(0)) \\\n",
    ".groupBy(\"userId\") \\\n",
    ".agg(sum(\"n_dgrade\").alias(\"dgrade\"))\n"
   ]
  },
  {
   "cell_type": "code",
   "execution_count": null,
   "metadata": {},
   "outputs": [],
   "source": [
    "data_dgrade.show()"
   ]
  },
  {
   "cell_type": "code",
   "execution_count": null,
   "metadata": {},
   "outputs": [],
   "source": [
    "data_c = data_churn\\\n",
    ".select(\"userId\", \"Churn\")\\\n",
    ".dropDuplicates()\\\n",
    ".groupby(\"userId\", \"Churn\")\\\n",
    ".count()\\\n",
    ".drop('count')"
   ]
  },
  {
   "cell_type": "code",
   "execution_count": null,
   "metadata": {},
   "outputs": [],
   "source": [
    "df_ready = data_gender\\\n",
    ".join(data_level_f, [\"userId\"])\\\n",
    ".join(data_artist, [\"userId\"])\\\n",
    ".join(data_playlist, [\"userId\"])\\\n",
    ".join(data_likes, [\"userId\"])\\\n",
    ".join(data_dlikes, [\"userId\"])\\\n",
    ".join(data_dgrade, [\"userId\"])\\\n",
    ".join(data_song, [\"userId\"])\\\n",
    ".join(data_ad , [\"userId\"])\\\n",
    ".join(data_c, [\"userId\"]) \\\n",
    ".dropDuplicates()\n"
   ]
  },
  {
   "cell_type": "code",
   "execution_count": null,
   "metadata": {},
   "outputs": [],
   "source": [
    "df_ready.show()"
   ]
  },
  {
   "cell_type": "code",
   "execution_count": null,
   "metadata": {},
   "outputs": [],
   "source": [
    "df_ready.printSchema()\n"
   ]
  },
  {
   "cell_type": "code",
   "execution_count": null,
   "metadata": {},
   "outputs": [],
   "source": [
    "float_cols = [col(c).cast('float').alias(c) for c in df_ready.columns]\n",
    "df_ready = df_ready.select(float_cols)"
   ]
  },
  {
   "cell_type": "code",
   "execution_count": null,
   "metadata": {},
   "outputs": [],
   "source": [
    "df_ready.printSchema()"
   ]
  },
  {
   "cell_type": "code",
   "execution_count": null,
   "metadata": {},
   "outputs": [],
   "source": [
    "from pyspark.ml.feature import StandardScaler\n",
    "from pyspark.ml.feature import VectorAssembler\n",
    "\n",
    "# Select columns to be scaled and assemble them into a single vector column\n",
    "assembler = VectorAssembler(inputCols=['gender', 'level', 'number_artist_listen', 'p_list',\n",
    "                                      'thumbsup', 'thumbsdown', 'dgrade', 'nsong', 'ad','Churn'],\n",
    "                            outputCol='features_vec')\n"
   ]
  },
  {
   "cell_type": "code",
   "execution_count": null,
   "metadata": {},
   "outputs": [],
   "source": [
    "df_assembled = assembler.transform(df_ready)\n",
    "\n",
    "# Fit StandardScaler model on assembled data\n",
    "scaler = StandardScaler(inputCol='features_vec', outputCol='scaled_features')\n",
    "scaler_model = scaler.fit(df_assembled)\n",
    "\n",
    "# Apply scaler model on assembled data\n",
    "df_scaled = scaler_model.transform(df_assembled)"
   ]
  },
  {
   "cell_type": "code",
   "execution_count": null,
   "metadata": {},
   "outputs": [],
   "source": []
  },
  {
   "cell_type": "code",
   "execution_count": null,
   "metadata": {},
   "outputs": [],
   "source": []
  },
  {
   "cell_type": "markdown",
   "metadata": {},
   "source": [
    "# Modeling\n",
    "Split the full dataset into train, test, and validation sets. Test out several of the machine learning methods you learned. Evaluate the accuracy of the various models, tuning parameters as necessary. Determine your winning model based on test accuracy and report results on the validation set. Since the churned users are a fairly small subset, I suggest using F1 score as the metric to optimize."
   ]
  },
  {
   "cell_type": "code",
   "execution_count": null,
   "metadata": {},
   "outputs": [],
   "source": []
  },
  {
   "cell_type": "markdown",
   "metadata": {},
   "source": [
    "# Final Steps\n",
    "Clean up your code, adding comments and renaming variables to make the code easier to read and maintain. Refer to the Spark Project Overview page and Data Scientist Capstone Project Rubric to make sure you are including all components of the capstone project and meet all expectations. Remember, this includes thorough documentation in a README file in a Github repository, as well as a web app or blog post."
   ]
  },
  {
   "cell_type": "code",
   "execution_count": null,
   "metadata": {},
   "outputs": [],
   "source": []
  }
 ],
 "metadata": {
  "kernelspec": {
   "display_name": "Python 3 (ipykernel)",
   "language": "python",
   "name": "python3"
  },
  "language_info": {
   "codemirror_mode": {
    "name": "ipython",
    "version": 3
   },
   "file_extension": ".py",
   "mimetype": "text/x-python",
   "name": "python",
   "nbconvert_exporter": "python",
   "pygments_lexer": "ipython3",
   "version": "3.9.12"
  }
 },
 "nbformat": 4,
 "nbformat_minor": 4
}
